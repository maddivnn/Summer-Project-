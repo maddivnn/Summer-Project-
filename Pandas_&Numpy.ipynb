{
 "cells": [
  {
   "cell_type": "code",
   "execution_count": 24,
   "id": "7040b0a5",
   "metadata": {},
   "outputs": [],
   "source": [
    "import pandas as pd\n",
    "import numpy as np\n",
    "import sympy as sy\n",
    "from numpy.random import randn"
   ]
  },
  {
   "cell_type": "code",
   "execution_count": 25,
   "id": "884cf421",
   "metadata": {},
   "outputs": [],
   "source": [
    "array_1 = np.array([1,2,3])"
   ]
  },
  {
   "cell_type": "code",
   "execution_count": 26,
   "id": "9be109b8",
   "metadata": {},
   "outputs": [
    {
     "data": {
      "text/plain": [
       "array([1, 2, 3])"
      ]
     },
     "execution_count": 26,
     "metadata": {},
     "output_type": "execute_result"
    }
   ],
   "source": [
    "array_1"
   ]
  },
  {
   "cell_type": "code",
   "execution_count": 27,
   "id": "a4a7acfe",
   "metadata": {},
   "outputs": [
    {
     "data": {
      "text/plain": [
       "numpy.ndarray"
      ]
     },
     "execution_count": 27,
     "metadata": {},
     "output_type": "execute_result"
    }
   ],
   "source": [
    "type(array_1)"
   ]
  },
  {
   "cell_type": "code",
   "execution_count": 28,
   "id": "9bcb0b6a",
   "metadata": {},
   "outputs": [],
   "source": [
    "array_2 = np.array([-1,4,2])"
   ]
  },
  {
   "cell_type": "code",
   "execution_count": 29,
   "id": "0fc6822c",
   "metadata": {},
   "outputs": [
    {
     "name": "stdout",
     "output_type": "stream",
     "text": [
      "[-1  4  2]\n"
     ]
    }
   ],
   "source": [
    "print(array_2)"
   ]
  },
  {
   "cell_type": "code",
   "execution_count": 30,
   "id": "2457191b",
   "metadata": {},
   "outputs": [
    {
     "data": {
      "text/plain": [
       "3"
      ]
     },
     "execution_count": 30,
     "metadata": {},
     "output_type": "execute_result"
    }
   ],
   "source": [
    "len(array_1)"
   ]
  },
  {
   "cell_type": "code",
   "execution_count": 31,
   "id": "b73b8a69",
   "metadata": {},
   "outputs": [
    {
     "data": {
      "text/plain": [
       "3"
      ]
     },
     "execution_count": 31,
     "metadata": {},
     "output_type": "execute_result"
    }
   ],
   "source": [
    "len(array_2)"
   ]
  },
  {
   "cell_type": "code",
   "execution_count": 32,
   "id": "dd332838",
   "metadata": {},
   "outputs": [],
   "source": [
    "#We want to perform the dot product of these \n",
    "#array\n",
    "for i in range(len(array_1)):\n",
    "    dot = sum(array_1*array_2)"
   ]
  },
  {
   "cell_type": "code",
   "execution_count": 33,
   "id": "f0457ef2",
   "metadata": {
    "scrolled": true
   },
   "outputs": [
    {
     "name": "stdout",
     "output_type": "stream",
     "text": [
      "13\n"
     ]
    }
   ],
   "source": [
    "print(dot)"
   ]
  },
  {
   "cell_type": "code",
   "execution_count": 34,
   "id": "eb6ab726",
   "metadata": {},
   "outputs": [
    {
     "data": {
      "text/plain": [
       "13"
      ]
     },
     "execution_count": 34,
     "metadata": {},
     "output_type": "execute_result"
    }
   ],
   "source": [
    "array_1@array_2"
   ]
  },
  {
   "cell_type": "code",
   "execution_count": 35,
   "id": "3f7f3626",
   "metadata": {},
   "outputs": [
    {
     "data": {
      "text/plain": [
       "13"
      ]
     },
     "execution_count": 35,
     "metadata": {},
     "output_type": "execute_result"
    }
   ],
   "source": [
    "array_1.dot(array_2)"
   ]
  },
  {
   "cell_type": "code",
   "execution_count": 36,
   "id": "e3b3744d",
   "metadata": {},
   "outputs": [],
   "source": [
    "array_3 = array_1**2"
   ]
  },
  {
   "cell_type": "code",
   "execution_count": 37,
   "id": "e9d137b3",
   "metadata": {},
   "outputs": [
    {
     "data": {
      "text/plain": [
       "array([1, 4, 9])"
      ]
     },
     "execution_count": 37,
     "metadata": {},
     "output_type": "execute_result"
    }
   ],
   "source": [
    "array_3"
   ]
  },
  {
   "cell_type": "code",
   "execution_count": 38,
   "id": "26004845",
   "metadata": {},
   "outputs": [
    {
     "name": "stdout",
     "output_type": "stream",
     "text": [
      "[1 4 9]\n"
     ]
    }
   ],
   "source": [
    "print(array_3)"
   ]
  },
  {
   "cell_type": "code",
   "execution_count": 39,
   "id": "0616c539",
   "metadata": {},
   "outputs": [
    {
     "data": {
      "text/plain": [
       "[1, 2, 3, 1, 2, 3]"
      ]
     },
     "execution_count": 39,
     "metadata": {},
     "output_type": "execute_result"
    }
   ],
   "source": [
    "L1 = [1,2,3]\n",
    "L2 = L1*2\n",
    "L2"
   ]
  },
  {
   "cell_type": "code",
   "execution_count": 40,
   "id": "7cbcd564",
   "metadata": {},
   "outputs": [],
   "source": [
    "array_4 = np.sqrt(array_1)"
   ]
  },
  {
   "cell_type": "code",
   "execution_count": 41,
   "id": "76e84cdc",
   "metadata": {},
   "outputs": [
    {
     "name": "stdout",
     "output_type": "stream",
     "text": [
      "[1.         1.41421356 1.73205081]\n"
     ]
    }
   ],
   "source": [
    "print(array_4)"
   ]
  },
  {
   "cell_type": "code",
   "execution_count": 42,
   "id": "d57effc0",
   "metadata": {},
   "outputs": [
    {
     "name": "stdout",
     "output_type": "stream",
     "text": [
      "[2.         3.41421356 4.73205081]\n"
     ]
    }
   ],
   "source": [
    "array_5 = array_4 +array_1\n",
    "print(array_5)"
   ]
  },
  {
   "cell_type": "code",
   "execution_count": 43,
   "id": "d2ff1af4",
   "metadata": {},
   "outputs": [],
   "source": [
    "#Broadcasting"
   ]
  },
  {
   "cell_type": "code",
   "execution_count": 44,
   "id": "f44d61ab",
   "metadata": {},
   "outputs": [],
   "source": [
    "array_6 = np.array([1,2,3,4,5,6,7,8,9])"
   ]
  },
  {
   "cell_type": "code",
   "execution_count": 45,
   "id": "c0f68093",
   "metadata": {},
   "outputs": [
    {
     "name": "stdout",
     "output_type": "stream",
     "text": [
      "[100 100 100 100 100   6   7   8   9]\n"
     ]
    }
   ],
   "source": [
    "array_6[0:5] = 100\n",
    "print(array_6)"
   ]
  },
  {
   "cell_type": "code",
   "execution_count": 46,
   "id": "78d77c20",
   "metadata": {},
   "outputs": [],
   "source": [
    "array_6[3:7] = 1"
   ]
  },
  {
   "cell_type": "code",
   "execution_count": 47,
   "id": "2ffb9f3c",
   "metadata": {},
   "outputs": [
    {
     "name": "stdout",
     "output_type": "stream",
     "text": [
      "[100 100 100   1   1   1   1   8   9]\n"
     ]
    }
   ],
   "source": [
    "print(array_6)"
   ]
  },
  {
   "cell_type": "code",
   "execution_count": 48,
   "id": "55ae6559",
   "metadata": {},
   "outputs": [],
   "source": [
    "#Matrices"
   ]
  },
  {
   "cell_type": "code",
   "execution_count": 49,
   "id": "75aebe75",
   "metadata": {},
   "outputs": [],
   "source": [
    "M =np.array([[1,2,3],[7,8,9],[4,5,6]])"
   ]
  },
  {
   "cell_type": "code",
   "execution_count": 50,
   "id": "c8e93ad2",
   "metadata": {},
   "outputs": [
    {
     "data": {
      "text/plain": [
       "array([[1, 2, 3],\n",
       "       [7, 8, 9],\n",
       "       [4, 5, 6]])"
      ]
     },
     "execution_count": 50,
     "metadata": {},
     "output_type": "execute_result"
    }
   ],
   "source": [
    "M"
   ]
  },
  {
   "cell_type": "code",
   "execution_count": 51,
   "id": "97a80894",
   "metadata": {},
   "outputs": [],
   "source": [
    "L = np.linspace(1,9,9)"
   ]
  },
  {
   "cell_type": "code",
   "execution_count": 52,
   "id": "669df0ab",
   "metadata": {},
   "outputs": [
    {
     "data": {
      "text/plain": [
       "array([1., 2., 3., 4., 5., 6., 7., 8., 9.])"
      ]
     },
     "execution_count": 52,
     "metadata": {},
     "output_type": "execute_result"
    }
   ],
   "source": [
    "L"
   ]
  },
  {
   "cell_type": "code",
   "execution_count": 53,
   "id": "e4ece792",
   "metadata": {},
   "outputs": [],
   "source": [
    "M = L.reshape(3,3)"
   ]
  },
  {
   "cell_type": "code",
   "execution_count": 54,
   "id": "b94a9b78",
   "metadata": {},
   "outputs": [
    {
     "data": {
      "text/plain": [
       "array([[1., 2., 3.],\n",
       "       [4., 5., 6.],\n",
       "       [7., 8., 9.]])"
      ]
     },
     "execution_count": 54,
     "metadata": {},
     "output_type": "execute_result"
    }
   ],
   "source": [
    "M"
   ]
  },
  {
   "cell_type": "code",
   "execution_count": 55,
   "id": "6284fd2d",
   "metadata": {
    "scrolled": false
   },
   "outputs": [
    {
     "data": {
      "text/plain": [
       "array([[[ 1.54580003, -1.02408376,  0.12856356, -2.00937755],\n",
       "        [ 0.34752267, -0.48360387, -1.48854116, -1.00957829],\n",
       "        [-0.21482823,  0.07672649, -1.28337538, -0.20751038],\n",
       "        [ 0.56546212,  1.17003931, -0.46227104,  0.45827406],\n",
       "        [-1.1163786 , -0.97900288,  0.73158083,  0.20319954],\n",
       "        [-1.135802  , -1.23410542,  0.26177482, -0.49281863],\n",
       "        [-0.28174906, -0.11418519, -0.86554133,  1.43868284]]])"
      ]
     },
     "execution_count": 55,
     "metadata": {},
     "output_type": "execute_result"
    }
   ],
   "source": [
    "M3 = np.random.randn(1,7,4)\n",
    "M3"
   ]
  },
  {
   "cell_type": "code",
   "execution_count": 56,
   "id": "079c8f62",
   "metadata": {},
   "outputs": [
    {
     "data": {
      "text/plain": [
       "array([[-0.66452398,  0.39925649,  0.50101686, -0.17525263]])"
      ]
     },
     "execution_count": 56,
     "metadata": {},
     "output_type": "execute_result"
    }
   ],
   "source": [
    "N = np.random.randn(1,4)\n",
    "N"
   ]
  },
  {
   "cell_type": "code",
   "execution_count": 57,
   "id": "240d955d",
   "metadata": {},
   "outputs": [
    {
     "data": {
      "text/plain": [
       "array([[1., 0., 0., 0.],\n",
       "       [0., 1., 0., 0.],\n",
       "       [0., 0., 1., 0.]])"
      ]
     },
     "execution_count": 57,
     "metadata": {},
     "output_type": "execute_result"
    }
   ],
   "source": [
    "# Identity matrix\n",
    "I = np.eye(3,4)\n",
    "I"
   ]
  },
  {
   "cell_type": "code",
   "execution_count": 58,
   "id": "3f5b3229",
   "metadata": {},
   "outputs": [
    {
     "data": {
      "text/plain": [
       "array([[0., 0., 0., 0., 0.],\n",
       "       [0., 0., 0., 0., 0.],\n",
       "       [0., 0., 0., 0., 0.]])"
      ]
     },
     "execution_count": 58,
     "metadata": {},
     "output_type": "execute_result"
    }
   ],
   "source": [
    "# Zero Matrix \n",
    "Z = np.zeros([3,5])\n",
    "Z"
   ]
  },
  {
   "cell_type": "code",
   "execution_count": 59,
   "id": "387131ee",
   "metadata": {},
   "outputs": [],
   "source": [
    "D = np.diag(M)"
   ]
  },
  {
   "cell_type": "code",
   "execution_count": 60,
   "id": "4bcd4844",
   "metadata": {},
   "outputs": [
    {
     "data": {
      "text/plain": [
       "array([1., 5., 9.])"
      ]
     },
     "execution_count": 60,
     "metadata": {},
     "output_type": "execute_result"
    }
   ],
   "source": [
    "D"
   ]
  },
  {
   "cell_type": "code",
   "execution_count": 61,
   "id": "85e24845",
   "metadata": {},
   "outputs": [],
   "source": [
    "E = np.diag(D)"
   ]
  },
  {
   "cell_type": "code",
   "execution_count": 62,
   "id": "07e29860",
   "metadata": {},
   "outputs": [
    {
     "data": {
      "text/plain": [
       "array([[1., 0., 0.],\n",
       "       [0., 5., 0.],\n",
       "       [0., 0., 9.]])"
      ]
     },
     "execution_count": 62,
     "metadata": {},
     "output_type": "execute_result"
    }
   ],
   "source": [
    "E"
   ]
  },
  {
   "cell_type": "code",
   "execution_count": 66,
   "id": "775bf6bb",
   "metadata": {},
   "outputs": [
    {
     "data": {
      "text/plain": [
       "array([[1., 1., 1., 1.],\n",
       "       [1., 1., 1., 1.],\n",
       "       [1., 1., 1., 1.]])"
      ]
     },
     "execution_count": 66,
     "metadata": {},
     "output_type": "execute_result"
    }
   ],
   "source": [
    "O = np.ones([3,4])\n",
    "O"
   ]
  },
  {
   "cell_type": "code",
   "execution_count": 80,
   "id": "03195c36",
   "metadata": {},
   "outputs": [],
   "source": [
    "M1 = sy.Matrix([[1,2,3],[7,0,6],[7,1,9]])"
   ]
  },
  {
   "cell_type": "code",
   "execution_count": 81,
   "id": "93e94de8",
   "metadata": {},
   "outputs": [
    {
     "data": {
      "text/latex": [
       "$\\displaystyle \\left[\\begin{matrix}1 & 2 & 3\\\\7 & 0 & 6\\\\7 & 1 & 9\\end{matrix}\\right]$"
      ],
      "text/plain": [
       "Matrix([\n",
       "[1, 2, 3],\n",
       "[7, 0, 6],\n",
       "[7, 1, 9]])"
      ]
     },
     "execution_count": 81,
     "metadata": {},
     "output_type": "execute_result"
    }
   ],
   "source": [
    "M1"
   ]
  },
  {
   "cell_type": "code",
   "execution_count": 96,
   "id": "8e230492",
   "metadata": {},
   "outputs": [
    {
     "data": {
      "text/latex": [
       "$\\displaystyle \\left[\\begin{matrix}\\frac{2}{9} & \\frac{5}{9} & - \\frac{4}{9}\\\\\\frac{7}{9} & \\frac{4}{9} & - \\frac{5}{9}\\\\- \\frac{7}{27} & - \\frac{13}{27} & \\frac{14}{27}\\end{matrix}\\right]$"
      ],
      "text/plain": [
       "Matrix([\n",
       "[  2/9,    5/9,  -4/9],\n",
       "[  7/9,    4/9,  -5/9],\n",
       "[-7/27, -13/27, 14/27]])"
      ]
     },
     "execution_count": 96,
     "metadata": {},
     "output_type": "execute_result"
    }
   ],
   "source": [
    "V = M1.inv()\n",
    "V"
   ]
  },
  {
   "cell_type": "code",
   "execution_count": 84,
   "id": "f938c388",
   "metadata": {},
   "outputs": [
    {
     "data": {
      "text/latex": [
       "$\\displaystyle - \\frac{1}{27}$"
      ],
      "text/plain": [
       "-1/27"
      ]
     },
     "execution_count": 84,
     "metadata": {},
     "output_type": "execute_result"
    }
   ],
   "source": [
    "V.det()"
   ]
  },
  {
   "cell_type": "code",
   "execution_count": 69,
   "id": "f597ac52",
   "metadata": {},
   "outputs": [
    {
     "data": {
      "text/plain": [
       "array([[ 12. ,  12. ,  12. ],\n",
       "       [-10. , -16. , -14. ],\n",
       "       [  1.5,   4. ,   6.5]])"
      ]
     },
     "execution_count": 69,
     "metadata": {},
     "output_type": "execute_result"
    }
   ],
   "source": [
    "V.dot(M)"
   ]
  },
  {
   "cell_type": "code",
   "execution_count": 85,
   "id": "943df4bf",
   "metadata": {},
   "outputs": [
    {
     "data": {
      "text/latex": [
       "$\\displaystyle -27$"
      ],
      "text/plain": [
       "-27"
      ]
     },
     "execution_count": 85,
     "metadata": {},
     "output_type": "execute_result"
    }
   ],
   "source": [
    "M1.det()"
   ]
  },
  {
   "cell_type": "code",
   "execution_count": 97,
   "id": "f359371c",
   "metadata": {},
   "outputs": [],
   "source": [
    "V.row_del(0)"
   ]
  },
  {
   "cell_type": "code",
   "execution_count": 98,
   "id": "3e2fc868",
   "metadata": {},
   "outputs": [
    {
     "data": {
      "text/latex": [
       "$\\displaystyle \\left[\\begin{matrix}\\frac{7}{9} & \\frac{4}{9} & - \\frac{5}{9}\\\\- \\frac{7}{27} & - \\frac{13}{27} & \\frac{14}{27}\\end{matrix}\\right]$"
      ],
      "text/plain": [
       "Matrix([\n",
       "[  7/9,    4/9,  -5/9],\n",
       "[-7/27, -13/27, 14/27]])"
      ]
     },
     "execution_count": 98,
     "metadata": {},
     "output_type": "execute_result"
    }
   ],
   "source": [
    "V"
   ]
  },
  {
   "cell_type": "code",
   "execution_count": 101,
   "id": "6f7f1d51",
   "metadata": {},
   "outputs": [],
   "source": [
    "P = sy.Matrix(np.random.randint(1,10,size=(4,3)))"
   ]
  },
  {
   "cell_type": "code",
   "execution_count": 102,
   "id": "26974fa7",
   "metadata": {
    "scrolled": true
   },
   "outputs": [
    {
     "data": {
      "text/latex": [
       "$\\displaystyle \\left[\\begin{matrix}3 & 9 & 2\\\\2 & 4 & 2\\\\5 & 8 & 7\\\\3 & 3 & 8\\end{matrix}\\right]$"
      ],
      "text/plain": [
       "Matrix([\n",
       "[3, 9, 2],\n",
       "[2, 4, 2],\n",
       "[5, 8, 7],\n",
       "[3, 3, 8]])"
      ]
     },
     "execution_count": 102,
     "metadata": {},
     "output_type": "execute_result"
    }
   ],
   "source": [
    "P"
   ]
  },
  {
   "cell_type": "code",
   "execution_count": 108,
   "id": "a338726a",
   "metadata": {},
   "outputs": [],
   "source": [
    "Q = sy.Matrix(np.random.randint(1,10,size=(3,4)))"
   ]
  },
  {
   "cell_type": "code",
   "execution_count": 109,
   "id": "bc0fd5f1",
   "metadata": {},
   "outputs": [
    {
     "data": {
      "text/latex": [
       "$\\displaystyle \\left[\\begin{matrix}2 & 8 & 3 & 3\\\\7 & 6 & 9 & 1\\\\1 & 7 & 1 & 3\\end{matrix}\\right]$"
      ],
      "text/plain": [
       "Matrix([\n",
       "[2, 8, 3, 3],\n",
       "[7, 6, 9, 1],\n",
       "[1, 7, 1, 3]])"
      ]
     },
     "execution_count": 109,
     "metadata": {},
     "output_type": "execute_result"
    }
   ],
   "source": [
    "Q"
   ]
  },
  {
   "cell_type": "code",
   "execution_count": 110,
   "id": "6e9402f0",
   "metadata": {},
   "outputs": [],
   "source": [
    "R = np.matmul(P,Q)"
   ]
  },
  {
   "cell_type": "code",
   "execution_count": 111,
   "id": "684d5961",
   "metadata": {},
   "outputs": [
    {
     "data": {
      "text/plain": [
       "array([[71, 92, 92, 24],\n",
       "       [34, 54, 44, 16],\n",
       "       [73, 137, 94, 44],\n",
       "       [35, 98, 44, 36]], dtype=object)"
      ]
     },
     "execution_count": 111,
     "metadata": {},
     "output_type": "execute_result"
    }
   ],
   "source": [
    "R"
   ]
  },
  {
   "cell_type": "code",
   "execution_count": 112,
   "id": "13d4a689",
   "metadata": {},
   "outputs": [
    {
     "data": {
      "text/latex": [
       "$\\displaystyle \\left[\\begin{matrix}71 & 92 & 92 & 24\\\\34 & 54 & 44 & 16\\\\73 & 137 & 94 & 44\\\\35 & 98 & 44 & 36\\end{matrix}\\right]$"
      ],
      "text/plain": [
       "Matrix([\n",
       "[71,  92, 92, 24],\n",
       "[34,  54, 44, 16],\n",
       "[73, 137, 94, 44],\n",
       "[35,  98, 44, 36]])"
      ]
     },
     "execution_count": 112,
     "metadata": {},
     "output_type": "execute_result"
    }
   ],
   "source": [
    "sy.Matrix(R)"
   ]
  },
  {
   "cell_type": "code",
   "execution_count": null,
   "id": "53d1a163",
   "metadata": {},
   "outputs": [],
   "source": []
  }
 ],
 "metadata": {
  "kernelspec": {
   "display_name": "Python 3 (ipykernel)",
   "language": "python",
   "name": "python3"
  },
  "language_info": {
   "codemirror_mode": {
    "name": "ipython",
    "version": 3
   },
   "file_extension": ".py",
   "mimetype": "text/x-python",
   "name": "python",
   "nbconvert_exporter": "python",
   "pygments_lexer": "ipython3",
   "version": "3.9.12"
  }
 },
 "nbformat": 4,
 "nbformat_minor": 5
}
