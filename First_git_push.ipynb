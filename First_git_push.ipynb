{
 "cells": [
  {
   "cell_type": "markdown",
   "id": "76005505",
   "metadata": {},
   "source": [
    "# Day 3\n",
    "\n",
    " * Data Types\n",
    "     * Numbers \n",
    "     * Strings\n",
    "     * Variable Assignemnt\n",
    "     * Printing \n",
    "     * String Methods \n",
    "     * Lists \n",
    "     * Dictionaries \n",
    "     * Boolians \n",
    "     * Tuples \n",
    "     * Sets \n",
    "     \n",
    "* Basic Operations \n",
    "    * Comaparison \n",
    "    * if, elif, else statements\n",
    "    * for loops \n",
    "    * While loops \n",
    "    * range()\n",
    "    * linspace()\n",
    "    * list comprehension\n",
    "    * functions\n",
    "    * Lambda expressions\n",
    "    * Map & filter"
   ]
  },
  {
   "cell_type": "markdown",
   "id": "b7db1a7a",
   "metadata": {},
   "source": [
    "## Numbers "
   ]
  },
  {
   "cell_type": "code",
   "execution_count": 1,
   "id": "22f49383",
   "metadata": {},
   "outputs": [
    {
     "data": {
      "text/plain": [
       "4"
      ]
     },
     "execution_count": 1,
     "metadata": {},
     "output_type": "execute_result"
    }
   ],
   "source": [
    "1+3"
   ]
  },
  {
   "cell_type": "code",
   "execution_count": 2,
   "id": "172ee272",
   "metadata": {},
   "outputs": [
    {
     "data": {
      "text/plain": [
       "18"
      ]
     },
     "execution_count": 2,
     "metadata": {},
     "output_type": "execute_result"
    }
   ],
   "source": [
    "(1+5)*(5-2)"
   ]
  },
  {
   "cell_type": "code",
   "execution_count": 3,
   "id": "f4791c53",
   "metadata": {},
   "outputs": [
    {
     "data": {
      "text/plain": [
       "27"
      ]
     },
     "execution_count": 3,
     "metadata": {},
     "output_type": "execute_result"
    }
   ],
   "source": [
    "3**3"
   ]
  },
  {
   "cell_type": "markdown",
   "id": "fbccd762",
   "metadata": {},
   "source": [
    "This $\\%$ will return the remainder of the opreation "
   ]
  },
  {
   "cell_type": "code",
   "execution_count": 4,
   "id": "6340f8b4",
   "metadata": {},
   "outputs": [
    {
     "data": {
      "text/plain": [
       "1"
      ]
     },
     "execution_count": 4,
     "metadata": {},
     "output_type": "execute_result"
    }
   ],
   "source": [
    "13%3"
   ]
  },
  {
   "cell_type": "code",
   "execution_count": 5,
   "id": "105a07d3",
   "metadata": {},
   "outputs": [
    {
     "data": {
      "text/plain": [
       "3"
      ]
     },
     "execution_count": 5,
     "metadata": {},
     "output_type": "execute_result"
    }
   ],
   "source": [
    "15//4"
   ]
  },
  {
   "cell_type": "code",
   "execution_count": 6,
   "id": "d55f7018",
   "metadata": {},
   "outputs": [
    {
     "data": {
      "text/plain": [
       "0"
      ]
     },
     "execution_count": 6,
     "metadata": {},
     "output_type": "execute_result"
    }
   ],
   "source": [
    "3//4"
   ]
  },
  {
   "cell_type": "code",
   "execution_count": 7,
   "id": "e41819cc",
   "metadata": {},
   "outputs": [
    {
     "data": {
      "text/plain": [
       "1.5"
      ]
     },
     "execution_count": 7,
     "metadata": {},
     "output_type": "execute_result"
    }
   ],
   "source": [
    "3/2"
   ]
  },
  {
   "cell_type": "code",
   "execution_count": 10,
   "id": "e3514cb0",
   "metadata": {},
   "outputs": [
    {
     "data": {
      "text/plain": [
       "1"
      ]
     },
     "execution_count": 10,
     "metadata": {},
     "output_type": "execute_result"
    }
   ],
   "source": [
    "# This will return an interger as the quotient\n",
    "3//2"
   ]
  },
  {
   "cell_type": "code",
   "execution_count": 11,
   "id": "3145b17c",
   "metadata": {},
   "outputs": [
    {
     "data": {
      "text/plain": [
       "float"
      ]
     },
     "execution_count": 11,
     "metadata": {},
     "output_type": "execute_result"
    }
   ],
   "source": [
    "type (2.173279849)"
   ]
  },
  {
   "cell_type": "code",
   "execution_count": 12,
   "id": "0517e0a8",
   "metadata": {},
   "outputs": [
    {
     "data": {
      "text/plain": [
       "float"
      ]
     },
     "execution_count": 12,
     "metadata": {},
     "output_type": "execute_result"
    }
   ],
   "source": [
    "type(-3.4)"
   ]
  },
  {
   "cell_type": "code",
   "execution_count": 13,
   "id": "5ab72cf2",
   "metadata": {},
   "outputs": [
    {
     "data": {
      "text/plain": [
       "float"
      ]
     },
     "execution_count": 13,
     "metadata": {},
     "output_type": "execute_result"
    }
   ],
   "source": [
    "type((2)**0.5)"
   ]
  },
  {
   "cell_type": "code",
   "execution_count": 14,
   "id": "ebe4e3ff",
   "metadata": {},
   "outputs": [
    {
     "data": {
      "text/plain": [
       "4.0"
      ]
     },
     "execution_count": 14,
     "metadata": {},
     "output_type": "execute_result"
    }
   ],
   "source": [
    "(16)**0.5"
   ]
  },
  {
   "cell_type": "markdown",
   "id": "695ab5f6",
   "metadata": {},
   "source": [
    "## Strings"
   ]
  },
  {
   "cell_type": "code",
   "execution_count": 15,
   "id": "246eb597",
   "metadata": {},
   "outputs": [
    {
     "name": "stdout",
     "output_type": "stream",
     "text": [
      "I am a string and I am in a single quotation\n"
     ]
    }
   ],
   "source": [
    "# Strings are sequences of alpha character data. \n",
    "print('I am a string and I am in a single quotation')"
   ]
  },
  {
   "cell_type": "code",
   "execution_count": 16,
   "id": "b1731a73",
   "metadata": {},
   "outputs": [
    {
     "data": {
      "text/plain": [
       "str"
      ]
     },
     "execution_count": 16,
     "metadata": {},
     "output_type": "execute_result"
    }
   ],
   "source": [
    "type('I am a string and I am in a single quotation')"
   ]
  },
  {
   "cell_type": "code",
   "execution_count": 17,
   "id": "ceb8c391",
   "metadata": {},
   "outputs": [
    {
     "name": "stdout",
     "output_type": "stream",
     "text": [
      "I am a string and I am in a double quotation\n"
     ]
    }
   ],
   "source": [
    "print(\"I am a string and I am in a double quotation\")"
   ]
  },
  {
   "cell_type": "code",
   "execution_count": 18,
   "id": "0128dfcc",
   "metadata": {},
   "outputs": [
    {
     "data": {
      "text/plain": [
       "str"
      ]
     },
     "execution_count": 18,
     "metadata": {},
     "output_type": "execute_result"
    }
   ],
   "source": [
    "type(\"I am a string and I am in a double quotation\")"
   ]
  },
  {
   "cell_type": "code",
   "execution_count": 1,
   "id": "4bba10a8",
   "metadata": {},
   "outputs": [
    {
     "data": {
      "text/plain": [
       "str"
      ]
     },
     "execution_count": 1,
     "metadata": {},
     "output_type": "execute_result"
    }
   ],
   "source": [
    "type(\" \")"
   ]
  },
  {
   "cell_type": "markdown",
   "id": "5ea59e44",
   "metadata": {},
   "source": [
    "## Variable Assignment "
   ]
  },
  {
   "cell_type": "code",
   "execution_count": null,
   "id": "f6c19828",
   "metadata": {},
   "outputs": [],
   "source": [
    "name = 'Madison'"
   ]
  },
  {
   "cell_type": "code",
   "execution_count": 2,
   "id": "8b16cc03",
   "metadata": {},
   "outputs": [
    {
     "ename": "SyntaxError",
     "evalue": "invalid decimal literal (739953904.py, line 1)",
     "output_type": "error",
     "traceback": [
      "\u001b[0;36m  Input \u001b[0;32mIn [2]\u001b[0;36m\u001b[0m\n\u001b[0;31m    123_var = 10\u001b[0m\n\u001b[0m       ^\u001b[0m\n\u001b[0;31mSyntaxError\u001b[0m\u001b[0;31m:\u001b[0m invalid decimal literal\n"
     ]
    }
   ],
   "source": [
    "123_var = 10"
   ]
  },
  {
   "cell_type": "code",
   "execution_count": 3,
   "id": "0ff4448f",
   "metadata": {},
   "outputs": [],
   "source": [
    "var_123 = 4"
   ]
  },
  {
   "cell_type": "code",
   "execution_count": 12,
   "id": "bf9464fb",
   "metadata": {},
   "outputs": [],
   "source": [
    "x = 1\n",
    "y = 2 \n",
    "z = x + y"
   ]
  },
  {
   "cell_type": "code",
   "execution_count": 16,
   "id": "f9786b94",
   "metadata": {},
   "outputs": [
    {
     "data": {
      "text/plain": [
       "3"
      ]
     },
     "execution_count": 16,
     "metadata": {},
     "output_type": "execute_result"
    }
   ],
   "source": [
    "z "
   ]
  },
  {
   "cell_type": "code",
   "execution_count": 17,
   "id": "ae478d0c",
   "metadata": {
    "scrolled": true
   },
   "outputs": [
    {
     "name": "stdout",
     "output_type": "stream",
     "text": [
      "1\n"
     ]
    }
   ],
   "source": [
    "print(x)"
   ]
  },
  {
   "cell_type": "code",
   "execution_count": 22,
   "id": "6a182be8",
   "metadata": {},
   "outputs": [],
   "source": [
    "x = 'Madison'"
   ]
  },
  {
   "cell_type": "code",
   "execution_count": 23,
   "id": "b8766caa",
   "metadata": {},
   "outputs": [
    {
     "data": {
      "text/plain": [
       "'Madison'"
      ]
     },
     "execution_count": 23,
     "metadata": {},
     "output_type": "execute_result"
    }
   ],
   "source": [
    "x"
   ]
  },
  {
   "cell_type": "code",
   "execution_count": 24,
   "id": "94b8174b",
   "metadata": {},
   "outputs": [
    {
     "name": "stdout",
     "output_type": "stream",
     "text": [
      "Madison\n"
     ]
    }
   ],
   "source": [
    "print(x)"
   ]
  },
  {
   "cell_type": "code",
   "execution_count": 20,
   "id": "e248d0c5",
   "metadata": {},
   "outputs": [],
   "source": [
    "name = 'Madison'"
   ]
  },
  {
   "cell_type": "code",
   "execution_count": 21,
   "id": "a29fa36d",
   "metadata": {},
   "outputs": [
    {
     "name": "stdout",
     "output_type": "stream",
     "text": [
      "Hello Madison welcome to REU\n"
     ]
    }
   ],
   "source": [
    "print('Hello',name,\"welcome to REU\")"
   ]
  },
  {
   "cell_type": "code",
   "execution_count": 27,
   "id": "5ef7cb6b",
   "metadata": {},
   "outputs": [
    {
     "name": "stdout",
     "output_type": "stream",
     "text": [
      "Hello Madison welcome to REU\n"
     ]
    }
   ],
   "source": [
    "print('Hello ' + name + \" welcome to REU\")"
   ]
  },
  {
   "cell_type": "code",
   "execution_count": 29,
   "id": "a6a645d0",
   "metadata": {},
   "outputs": [],
   "source": [
    "first_name = 'Madison'\n",
    "last_name = 'Norwood'"
   ]
  },
  {
   "cell_type": "code",
   "execution_count": 33,
   "id": "303c6377",
   "metadata": {},
   "outputs": [
    {
     "name": "stdout",
     "output_type": "stream",
     "text": [
      "Hello HU! My first name is: Madison and my last name is Norwood\n"
     ]
    }
   ],
   "source": [
    "print('Hello HU! My first name is: {One} and my last name is {Two}'.format(Two=last_name, One=first_name))"
   ]
  },
  {
   "cell_type": "code",
   "execution_count": 34,
   "id": "9ed38b12",
   "metadata": {},
   "outputs": [
    {
     "name": "stdout",
     "output_type": "stream",
     "text": [
      "Hello HU! My first name is: Madison and my last name is Norwood\n"
     ]
    }
   ],
   "source": [
    "print('Hello HU! My first name is: {} and my last name is {}'.format(first_name, last_name))"
   ]
  },
  {
   "cell_type": "markdown",
   "id": "35cdd1ff",
   "metadata": {},
   "source": [
    "## String Method"
   ]
  },
  {
   "cell_type": "code",
   "execution_count": 2,
   "id": "3f42a53e",
   "metadata": {},
   "outputs": [],
   "source": [
    "name = 'madison'"
   ]
  },
  {
   "cell_type": "code",
   "execution_count": 3,
   "id": "d4b533ef",
   "metadata": {},
   "outputs": [
    {
     "name": "stdout",
     "output_type": "stream",
     "text": [
      "Madison\n"
     ]
    }
   ],
   "source": [
    "# Title method \n",
    "print(name.title())"
   ]
  },
  {
   "cell_type": "code",
   "execution_count": 4,
   "id": "2cff16be",
   "metadata": {},
   "outputs": [
    {
     "name": "stdout",
     "output_type": "stream",
     "text": [
      "MADISON\n"
     ]
    }
   ],
   "source": [
    "# Upper method \n",
    "print(name.upper())"
   ]
  },
  {
   "cell_type": "code",
   "execution_count": 5,
   "id": "cad8e4cd",
   "metadata": {},
   "outputs": [],
   "source": [
    "# Lower method \n",
    "school = 'HOWARD UNIVERSITY'"
   ]
  },
  {
   "cell_type": "code",
   "execution_count": 7,
   "id": "74988e75",
   "metadata": {},
   "outputs": [
    {
     "name": "stdout",
     "output_type": "stream",
     "text": [
      "howard university\n"
     ]
    }
   ],
   "source": [
    "print(school.lower())"
   ]
  },
  {
   "cell_type": "code",
   "execution_count": 8,
   "id": "4763c4c4",
   "metadata": {},
   "outputs": [
    {
     "name": "stdout",
     "output_type": "stream",
     "text": [
      "['HOWARD', 'UNIVERSITY']\n"
     ]
    }
   ],
   "source": [
    "print(school.split())"
   ]
  },
  {
   "cell_type": "code",
   "execution_count": 9,
   "id": "327502d7",
   "metadata": {},
   "outputs": [],
   "source": [
    "a_string = 'h+e+l+l+o'"
   ]
  },
  {
   "cell_type": "code",
   "execution_count": 10,
   "id": "4115cc5d",
   "metadata": {},
   "outputs": [
    {
     "name": "stdout",
     "output_type": "stream",
     "text": [
      "['h', 'e', 'l', 'l', 'o']\n"
     ]
    }
   ],
   "source": [
    "print(a_string.split('+'))"
   ]
  },
  {
   "cell_type": "code",
   "execution_count": 11,
   "id": "7c389eb3",
   "metadata": {},
   "outputs": [
    {
     "name": "stdout",
     "output_type": "stream",
     "text": [
      "3\n"
     ]
    }
   ],
   "source": [
    "# Count method\n",
    "activity = 'I am learning Python'\n",
    "print(activity.count('n'))"
   ]
  },
  {
   "cell_type": "code",
   "execution_count": 12,
   "id": "fac2cb72",
   "metadata": {},
   "outputs": [
    {
     "name": "stdout",
     "output_type": "stream",
     "text": [
      "I am learning Python\n"
     ]
    }
   ],
   "source": [
    "# Center method\n",
    "print(activity.center(20))"
   ]
  },
  {
   "cell_type": "code",
   "execution_count": 13,
   "id": "ea371f29",
   "metadata": {},
   "outputs": [
    {
     "name": "stdout",
     "output_type": "stream",
     "text": [
      "                    I am learning Python                    \n"
     ]
    }
   ],
   "source": [
    "print(activity.center(60))"
   ]
  },
  {
   "cell_type": "code",
   "execution_count": 14,
   "id": "5fe01797",
   "metadata": {},
   "outputs": [
    {
     "name": "stdout",
     "output_type": "stream",
     "text": [
      "                                        I am learning Python                                        \n"
     ]
    }
   ],
   "source": [
    "print(activity.center(100))"
   ]
  },
  {
   "cell_type": "code",
   "execution_count": 15,
   "id": "09aa2ee1",
   "metadata": {},
   "outputs": [
    {
     "data": {
      "text/plain": [
       "str"
      ]
     },
     "execution_count": 15,
     "metadata": {},
     "output_type": "execute_result"
    }
   ],
   "source": [
    "type('12345')"
   ]
  },
  {
   "cell_type": "code",
   "execution_count": 16,
   "id": "bae235ec",
   "metadata": {},
   "outputs": [],
   "source": [
    "num_str = '12345'"
   ]
  },
  {
   "cell_type": "code",
   "execution_count": 17,
   "id": "e52d1076",
   "metadata": {},
   "outputs": [
    {
     "name": "stdout",
     "output_type": "stream",
     "text": [
      "True\n"
     ]
    }
   ],
   "source": [
    "print(num_str.isnumeric())"
   ]
  },
  {
   "cell_type": "code",
   "execution_count": 18,
   "id": "0e6cc1ff",
   "metadata": {},
   "outputs": [
    {
     "name": "stdout",
     "output_type": "stream",
     "text": [
      "False\n"
     ]
    }
   ],
   "source": [
    "print(school.isnumeric())"
   ]
  },
  {
   "cell_type": "code",
   "execution_count": 19,
   "id": "8ebd184f",
   "metadata": {},
   "outputs": [],
   "source": [
    "# Strip method\n",
    "name = \"  abc   \""
   ]
  },
  {
   "cell_type": "code",
   "execution_count": 20,
   "id": "e1caf491",
   "metadata": {},
   "outputs": [
    {
     "data": {
      "text/plain": [
       "8"
      ]
     },
     "execution_count": 20,
     "metadata": {},
     "output_type": "execute_result"
    }
   ],
   "source": [
    "# len will return the length of the strings \n",
    "len(name)\n"
   ]
  },
  {
   "cell_type": "code",
   "execution_count": 21,
   "id": "ce6e423b",
   "metadata": {},
   "outputs": [],
   "source": [
    "a = name.lstrip()"
   ]
  },
  {
   "cell_type": "code",
   "execution_count": 22,
   "id": "70421425",
   "metadata": {},
   "outputs": [
    {
     "data": {
      "text/plain": [
       "6"
      ]
     },
     "execution_count": 22,
     "metadata": {},
     "output_type": "execute_result"
    }
   ],
   "source": [
    "len(a)"
   ]
  },
  {
   "cell_type": "code",
   "execution_count": 23,
   "id": "cbb274d0",
   "metadata": {},
   "outputs": [
    {
     "data": {
      "text/plain": [
       "5"
      ]
     },
     "execution_count": 23,
     "metadata": {},
     "output_type": "execute_result"
    }
   ],
   "source": [
    "b = name.rstrip()\n",
    "len(b)"
   ]
  },
  {
   "cell_type": "code",
   "execution_count": 24,
   "id": "643606e8",
   "metadata": {},
   "outputs": [
    {
     "data": {
      "text/plain": [
       "3"
      ]
     },
     "execution_count": 24,
     "metadata": {},
     "output_type": "execute_result"
    }
   ],
   "source": [
    "c = name.strip()\n",
    "len(c)"
   ]
  },
  {
   "cell_type": "code",
   "execution_count": 25,
   "id": "ee82a7d2",
   "metadata": {},
   "outputs": [],
   "source": [
    "# list is used to store multiple variables into a single variable \n",
    "# every list has to be stored between sqaure brackets\n",
    "a_list = ['Fruits', ' Vegetables', 'Seafood', \"Meat lover\"]"
   ]
  },
  {
   "cell_type": "code",
   "execution_count": 26,
   "id": "58f30688",
   "metadata": {},
   "outputs": [
    {
     "data": {
      "text/plain": [
       "'Fruits'"
      ]
     },
     "execution_count": 26,
     "metadata": {},
     "output_type": "execute_result"
    }
   ],
   "source": [
    "a_list[0]"
   ]
  },
  {
   "cell_type": "code",
   "execution_count": 27,
   "id": "7a81d9f8",
   "metadata": {},
   "outputs": [
    {
     "name": "stdout",
     "output_type": "stream",
     "text": [
      "Fruits\n"
     ]
    }
   ],
   "source": [
    "print(a_list[0])"
   ]
  },
  {
   "cell_type": "code",
   "execution_count": 28,
   "id": "c4c00b76",
   "metadata": {},
   "outputs": [
    {
     "data": {
      "text/plain": [
       "'Meat lover'"
      ]
     },
     "execution_count": 28,
     "metadata": {},
     "output_type": "execute_result"
    }
   ],
   "source": [
    "a_list[-1]"
   ]
  },
  {
   "cell_type": "code",
   "execution_count": 29,
   "id": "8a3bcf76",
   "metadata": {},
   "outputs": [
    {
     "data": {
      "text/plain": [
       "['Fruits', ' Vegetables', 'Seafood']"
      ]
     },
     "execution_count": 29,
     "metadata": {},
     "output_type": "execute_result"
    }
   ],
   "source": [
    "a_list[0:3]\n",
    "# Note that the index 3 -Meat Lover- is excluded"
   ]
  },
  {
   "cell_type": "code",
   "execution_count": 31,
   "id": "147971df",
   "metadata": {},
   "outputs": [
    {
     "data": {
      "text/plain": [
       "['Fruits', ' Vegetables', 'Seafood', 'Meat lover']"
      ]
     },
     "execution_count": 31,
     "metadata": {},
     "output_type": "execute_result"
    }
   ],
   "source": [
    "a_list[0:5]"
   ]
  },
  {
   "cell_type": "code",
   "execution_count": 33,
   "id": "833f3dad",
   "metadata": {},
   "outputs": [],
   "source": [
    "a_list[0] = 'Salad'"
   ]
  },
  {
   "cell_type": "code",
   "execution_count": 34,
   "id": "ec53d29d",
   "metadata": {},
   "outputs": [
    {
     "data": {
      "text/plain": [
       "['Salad', ' Vegetables', 'Seafood', 'Meat lover']"
      ]
     },
     "execution_count": 34,
     "metadata": {},
     "output_type": "execute_result"
    }
   ],
   "source": [
    "a_list"
   ]
  },
  {
   "cell_type": "code",
   "execution_count": 36,
   "id": "d0b3f01a",
   "metadata": {},
   "outputs": [
    {
     "data": {
      "text/plain": [
       "['Meat lover', 'Seafood', ' Vegetables', 'Salad']"
      ]
     },
     "execution_count": 36,
     "metadata": {},
     "output_type": "execute_result"
    }
   ],
   "source": [
    "a_list[::-1]"
   ]
  },
  {
   "cell_type": "code",
   "execution_count": 37,
   "id": "46108bec",
   "metadata": {},
   "outputs": [
    {
     "data": {
      "text/plain": [
       "'HOWARD UNIVERSITY'"
      ]
     },
     "execution_count": 37,
     "metadata": {},
     "output_type": "execute_result"
    }
   ],
   "source": [
    "school[::]"
   ]
  },
  {
   "cell_type": "code",
   "execution_count": 38,
   "id": "2e5e05a9",
   "metadata": {},
   "outputs": [
    {
     "data": {
      "text/plain": [
       "'YTISREVINU DRAWOH'"
      ]
     },
     "execution_count": 38,
     "metadata": {},
     "output_type": "execute_result"
    }
   ],
   "source": [
    "school[::-1]"
   ]
  },
  {
   "cell_type": "code",
   "execution_count": 39,
   "id": "b74fec11",
   "metadata": {},
   "outputs": [],
   "source": [
    "a_list.append('Fish')"
   ]
  },
  {
   "cell_type": "code",
   "execution_count": 40,
   "id": "bbe3cdd4",
   "metadata": {},
   "outputs": [
    {
     "data": {
      "text/plain": [
       "['Salad', ' Vegetables', 'Seafood', 'Meat lover', 'Fish']"
      ]
     },
     "execution_count": 40,
     "metadata": {},
     "output_type": "execute_result"
    }
   ],
   "source": [
    "a_list"
   ]
  },
  {
   "cell_type": "code",
   "execution_count": 41,
   "id": "cf803d13",
   "metadata": {},
   "outputs": [],
   "source": [
    "a_list.insert(5,'Shrimp')"
   ]
  },
  {
   "cell_type": "code",
   "execution_count": 42,
   "id": "aa37c537",
   "metadata": {},
   "outputs": [
    {
     "data": {
      "text/plain": [
       "['Salad', ' Vegetables', 'Seafood', 'Meat lover', 'Fish', 'Shrimp']"
      ]
     },
     "execution_count": 42,
     "metadata": {},
     "output_type": "execute_result"
    }
   ],
   "source": [
    "a_list"
   ]
  },
  {
   "cell_type": "code",
   "execution_count": 43,
   "id": "c630e5e5",
   "metadata": {},
   "outputs": [
    {
     "data": {
      "text/plain": [
       "' Vegetables'"
      ]
     },
     "execution_count": 43,
     "metadata": {},
     "output_type": "execute_result"
    }
   ],
   "source": [
    "#pop method\n",
    "a_list.pop(1)"
   ]
  },
  {
   "cell_type": "code",
   "execution_count": 44,
   "id": "7c98e2a4",
   "metadata": {},
   "outputs": [
    {
     "data": {
      "text/plain": [
       "['Salad', 'Seafood', 'Meat lover', 'Fish', 'Shrimp']"
      ]
     },
     "execution_count": 44,
     "metadata": {},
     "output_type": "execute_result"
    }
   ],
   "source": [
    "a_list"
   ]
  },
  {
   "cell_type": "code",
   "execution_count": 45,
   "id": "a7135cf9",
   "metadata": {},
   "outputs": [],
   "source": [
    "# Remove method \n",
    "a_list.remove('Fish')"
   ]
  },
  {
   "cell_type": "code",
   "execution_count": 46,
   "id": "35afb627",
   "metadata": {},
   "outputs": [
    {
     "data": {
      "text/plain": [
       "['Salad', 'Seafood', 'Meat lover', 'Shrimp']"
      ]
     },
     "execution_count": 46,
     "metadata": {},
     "output_type": "execute_result"
    }
   ],
   "source": [
    "a_list"
   ]
  },
  {
   "cell_type": "code",
   "execution_count": 47,
   "id": "50a9bbf3",
   "metadata": {},
   "outputs": [],
   "source": [
    "a_list.insert(2, 'Cats')"
   ]
  },
  {
   "cell_type": "code",
   "execution_count": 48,
   "id": "76dfd2e1",
   "metadata": {},
   "outputs": [
    {
     "data": {
      "text/plain": [
       "['Salad', 'Seafood', 'Cats', 'Meat lover', 'Shrimp']"
      ]
     },
     "execution_count": 48,
     "metadata": {},
     "output_type": "execute_result"
    }
   ],
   "source": [
    "a_list"
   ]
  },
  {
   "cell_type": "code",
   "execution_count": 49,
   "id": "6eac1629",
   "metadata": {},
   "outputs": [],
   "source": [
    "b_list = ['a','b','c','d']"
   ]
  },
  {
   "cell_type": "code",
   "execution_count": 50,
   "id": "0b4534d4",
   "metadata": {},
   "outputs": [
    {
     "data": {
      "text/plain": [
       "['Salad', 'Seafood', 'Cats', 'Meat lover', 'Shrimp', 'a', 'b', 'c', 'd']"
      ]
     },
     "execution_count": 50,
     "metadata": {},
     "output_type": "execute_result"
    }
   ],
   "source": [
    "a_list + b_list"
   ]
  },
  {
   "cell_type": "code",
   "execution_count": 51,
   "id": "e08b9e5b",
   "metadata": {},
   "outputs": [
    {
     "name": "stdout",
     "output_type": "stream",
     "text": [
      "['Salad', 'Seafood', 'Cats', 'Meat lover', 'Shrimp']\n"
     ]
    }
   ],
   "source": [
    "print(a_list)"
   ]
  },
  {
   "cell_type": "code",
   "execution_count": 52,
   "id": "b6e4cb13",
   "metadata": {},
   "outputs": [],
   "source": [
    "add_list = a_list + b_list"
   ]
  },
  {
   "cell_type": "code",
   "execution_count": 53,
   "id": "623bd2a9",
   "metadata": {},
   "outputs": [
    {
     "name": "stdout",
     "output_type": "stream",
     "text": [
      "['Salad', 'Seafood', 'Cats', 'Meat lover', 'Shrimp', 'a', 'b', 'c', 'd']\n"
     ]
    }
   ],
   "source": [
    "print(add_list)"
   ]
  },
  {
   "cell_type": "markdown",
   "id": "b4d91586",
   "metadata": {},
   "source": [
    "## Dictionary "
   ]
  },
  {
   "cell_type": "markdown",
   "id": "c085d3de",
   "metadata": {},
   "source": [
    "##### Dictionaries are used to store data in key value pairs"
   ]
  },
  {
   "cell_type": "code",
   "execution_count": 57,
   "id": "272e5192",
   "metadata": {},
   "outputs": [],
   "source": [
    "first_dict = {\n",
    "    \"brand\": \"Ford\",\n",
    "    \"model\": \"Mustang\",\n",
    "    \"year\": 1964,\n",
    "    \"Mileage\" : 200000,\n",
    "    'Color' : 'Green',\n",
    "    \"Cylinder\" : 6\n",
    "}"
   ]
  },
  {
   "cell_type": "code",
   "execution_count": 58,
   "id": "fa92f56b",
   "metadata": {},
   "outputs": [
    {
     "data": {
      "text/plain": [
       "'Mustang'"
      ]
     },
     "execution_count": 58,
     "metadata": {},
     "output_type": "execute_result"
    }
   ],
   "source": [
    "first_dict['model']"
   ]
  },
  {
   "cell_type": "code",
   "execution_count": 59,
   "id": "5bf32f3c",
   "metadata": {},
   "outputs": [],
   "source": [
    "first_dict['Origin'] = 'Domestic'"
   ]
  },
  {
   "cell_type": "code",
   "execution_count": 60,
   "id": "a99c2b5e",
   "metadata": {},
   "outputs": [
    {
     "data": {
      "text/plain": [
       "{'brand': 'Ford',\n",
       " 'model': 'Mustang',\n",
       " 'year': 1964,\n",
       " 'Mileage': 200000,\n",
       " 'Color': 'Green',\n",
       " 'Cylinder': 6,\n",
       " 'Origin': 'Domestic'}"
      ]
     },
     "execution_count": 60,
     "metadata": {},
     "output_type": "execute_result"
    }
   ],
   "source": [
    "first_dict"
   ]
  },
  {
   "cell_type": "code",
   "execution_count": 61,
   "id": "c4c88d27",
   "metadata": {},
   "outputs": [
    {
     "data": {
      "text/plain": [
       "'Green'"
      ]
     },
     "execution_count": 61,
     "metadata": {},
     "output_type": "execute_result"
    }
   ],
   "source": [
    "first_dict.pop('Color')"
   ]
  },
  {
   "cell_type": "code",
   "execution_count": 62,
   "id": "b62791be",
   "metadata": {},
   "outputs": [
    {
     "data": {
      "text/plain": [
       "{'brand': 'Ford',\n",
       " 'model': 'Mustang',\n",
       " 'year': 1964,\n",
       " 'Mileage': 200000,\n",
       " 'Cylinder': 6,\n",
       " 'Origin': 'Domestic'}"
      ]
     },
     "execution_count": 62,
     "metadata": {},
     "output_type": "execute_result"
    }
   ],
   "source": [
    "first_dict"
   ]
  },
  {
   "cell_type": "code",
   "execution_count": 63,
   "id": "8d392fc8",
   "metadata": {},
   "outputs": [
    {
     "data": {
      "text/plain": [
       "dict_items([('brand', 'Ford'), ('model', 'Mustang'), ('year', 1964), ('Mileage', 200000), ('Cylinder', 6), ('Origin', 'Domestic')])"
      ]
     },
     "execution_count": 63,
     "metadata": {},
     "output_type": "execute_result"
    }
   ],
   "source": [
    "first_dict.items()"
   ]
  },
  {
   "cell_type": "code",
   "execution_count": null,
   "id": "0ad238f1",
   "metadata": {},
   "outputs": [],
   "source": []
  }
 ],
 "metadata": {
  "kernelspec": {
   "display_name": "Python 3 (ipykernel)",
   "language": "python",
   "name": "python3"
  },
  "language_info": {
   "codemirror_mode": {
    "name": "ipython",
    "version": 3
   },
   "file_extension": ".py",
   "mimetype": "text/x-python",
   "name": "python",
   "nbconvert_exporter": "python",
   "pygments_lexer": "ipython3",
   "version": "3.9.12"
  }
 },
 "nbformat": 4,
 "nbformat_minor": 5
}
