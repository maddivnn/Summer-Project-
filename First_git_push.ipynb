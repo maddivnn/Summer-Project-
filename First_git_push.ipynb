{
 "cells": [
  {
   "cell_type": "markdown",
   "id": "76005505",
   "metadata": {},
   "source": [
    "# Day 3\n",
    "\n",
    " * Data Types\n",
    "     * Numbers \n",
    "     * Strings\n",
    "     * Variable Assignemnt\n",
    "     * Printing \n",
    "     * String Methods \n",
    "     * Lists \n",
    "     * Dictionaries \n",
    "     * Boolians \n",
    "     * Tuples \n",
    "     * Sets \n",
    "     \n",
    "* Basic Operations \n",
    "    * Comaparison \n",
    "    * if, elif, else statements\n",
    "    * for loops \n",
    "    * While loops \n",
    "    * range()\n",
    "    * linspace()\n",
    "    * list comprehension\n",
    "    * functions\n",
    "    * Lambda expressions\n",
    "    * Map & filter"
   ]
  },
  {
   "cell_type": "markdown",
   "id": "b7db1a7a",
   "metadata": {},
   "source": [
    "## Numbers "
   ]
  },
  {
   "cell_type": "code",
   "execution_count": 1,
   "id": "22f49383",
   "metadata": {},
   "outputs": [
    {
     "data": {
      "text/plain": [
       "4"
      ]
     },
     "execution_count": 1,
     "metadata": {},
     "output_type": "execute_result"
    }
   ],
   "source": [
    "1+3"
   ]
  },
  {
   "cell_type": "code",
   "execution_count": 2,
   "id": "172ee272",
   "metadata": {},
   "outputs": [
    {
     "data": {
      "text/plain": [
       "18"
      ]
     },
     "execution_count": 2,
     "metadata": {},
     "output_type": "execute_result"
    }
   ],
   "source": [
    "(1+5)*(5-2)"
   ]
  },
  {
   "cell_type": "code",
   "execution_count": 3,
   "id": "f4791c53",
   "metadata": {},
   "outputs": [
    {
     "data": {
      "text/plain": [
       "27"
      ]
     },
     "execution_count": 3,
     "metadata": {},
     "output_type": "execute_result"
    }
   ],
   "source": [
    "3**3"
   ]
  },
  {
   "cell_type": "markdown",
   "id": "fbccd762",
   "metadata": {},
   "source": [
    "This $\\%$ will return the remainder of the opreation "
   ]
  },
  {
   "cell_type": "code",
   "execution_count": 4,
   "id": "6340f8b4",
   "metadata": {},
   "outputs": [
    {
     "data": {
      "text/plain": [
       "1"
      ]
     },
     "execution_count": 4,
     "metadata": {},
     "output_type": "execute_result"
    }
   ],
   "source": [
    "13%3"
   ]
  },
  {
   "cell_type": "code",
   "execution_count": 5,
   "id": "105a07d3",
   "metadata": {},
   "outputs": [
    {
     "data": {
      "text/plain": [
       "3"
      ]
     },
     "execution_count": 5,
     "metadata": {},
     "output_type": "execute_result"
    }
   ],
   "source": [
    "15//4"
   ]
  },
  {
   "cell_type": "code",
   "execution_count": 6,
   "id": "d55f7018",
   "metadata": {},
   "outputs": [
    {
     "data": {
      "text/plain": [
       "0"
      ]
     },
     "execution_count": 6,
     "metadata": {},
     "output_type": "execute_result"
    }
   ],
   "source": [
    "3//4"
   ]
  },
  {
   "cell_type": "code",
   "execution_count": 7,
   "id": "e41819cc",
   "metadata": {},
   "outputs": [
    {
     "data": {
      "text/plain": [
       "1.5"
      ]
     },
     "execution_count": 7,
     "metadata": {},
     "output_type": "execute_result"
    }
   ],
   "source": [
    "3/2"
   ]
  },
  {
   "cell_type": "code",
   "execution_count": 10,
   "id": "e3514cb0",
   "metadata": {},
   "outputs": [
    {
     "data": {
      "text/plain": [
       "1"
      ]
     },
     "execution_count": 10,
     "metadata": {},
     "output_type": "execute_result"
    }
   ],
   "source": [
    "# This will return an interger as the quotient\n",
    "3//2"
   ]
  },
  {
   "cell_type": "code",
   "execution_count": 11,
   "id": "3145b17c",
   "metadata": {},
   "outputs": [
    {
     "data": {
      "text/plain": [
       "float"
      ]
     },
     "execution_count": 11,
     "metadata": {},
     "output_type": "execute_result"
    }
   ],
   "source": [
    "type (2.173279849)"
   ]
  },
  {
   "cell_type": "code",
   "execution_count": 12,
   "id": "0517e0a8",
   "metadata": {},
   "outputs": [
    {
     "data": {
      "text/plain": [
       "float"
      ]
     },
     "execution_count": 12,
     "metadata": {},
     "output_type": "execute_result"
    }
   ],
   "source": [
    "type(-3.4)"
   ]
  },
  {
   "cell_type": "code",
   "execution_count": 13,
   "id": "5ab72cf2",
   "metadata": {},
   "outputs": [
    {
     "data": {
      "text/plain": [
       "float"
      ]
     },
     "execution_count": 13,
     "metadata": {},
     "output_type": "execute_result"
    }
   ],
   "source": [
    "type((2)**0.5)"
   ]
  },
  {
   "cell_type": "code",
   "execution_count": 14,
   "id": "ebe4e3ff",
   "metadata": {},
   "outputs": [
    {
     "data": {
      "text/plain": [
       "4.0"
      ]
     },
     "execution_count": 14,
     "metadata": {},
     "output_type": "execute_result"
    }
   ],
   "source": [
    "(16)**0.5"
   ]
  },
  {
   "cell_type": "markdown",
   "id": "695ab5f6",
   "metadata": {},
   "source": [
    "## Strings"
   ]
  },
  {
   "cell_type": "code",
   "execution_count": 15,
   "id": "246eb597",
   "metadata": {},
   "outputs": [
    {
     "name": "stdout",
     "output_type": "stream",
     "text": [
      "I am a string and I am in a single quotation\n"
     ]
    }
   ],
   "source": [
    "# Strings are sequences of alpha character data. \n",
    "print('I am a string and I am in a single quotation')"
   ]
  },
  {
   "cell_type": "code",
   "execution_count": 16,
   "id": "b1731a73",
   "metadata": {},
   "outputs": [
    {
     "data": {
      "text/plain": [
       "str"
      ]
     },
     "execution_count": 16,
     "metadata": {},
     "output_type": "execute_result"
    }
   ],
   "source": [
    "type('I am a string and I am in a single quotation')"
   ]
  },
  {
   "cell_type": "code",
   "execution_count": 17,
   "id": "ceb8c391",
   "metadata": {},
   "outputs": [
    {
     "name": "stdout",
     "output_type": "stream",
     "text": [
      "I am a string and I am in a double quotation\n"
     ]
    }
   ],
   "source": [
    "print(\"I am a string and I am in a double quotation\")"
   ]
  },
  {
   "cell_type": "code",
   "execution_count": 18,
   "id": "0128dfcc",
   "metadata": {},
   "outputs": [
    {
     "data": {
      "text/plain": [
       "str"
      ]
     },
     "execution_count": 18,
     "metadata": {},
     "output_type": "execute_result"
    }
   ],
   "source": [
    "type(\"I am a string and I am in a double quotation\")"
   ]
  },
  {
   "cell_type": "code",
   "execution_count": null,
   "id": "4bba10a8",
   "metadata": {},
   "outputs": [],
   "source": []
  }
 ],
 "metadata": {
  "kernelspec": {
   "display_name": "Python 3 (ipykernel)",
   "language": "python",
   "name": "python3"
  },
  "language_info": {
   "codemirror_mode": {
    "name": "ipython",
    "version": 3
   },
   "file_extension": ".py",
   "mimetype": "text/x-python",
   "name": "python",
   "nbconvert_exporter": "python",
   "pygments_lexer": "ipython3",
   "version": "3.9.12"
  }
 },
 "nbformat": 4,
 "nbformat_minor": 5
}
