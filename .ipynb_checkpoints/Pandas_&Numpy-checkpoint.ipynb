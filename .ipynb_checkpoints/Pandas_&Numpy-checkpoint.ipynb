{
 "cells": [
  {
   "cell_type": "code",
   "execution_count": 1,
   "id": "7040b0a5",
   "metadata": {},
   "outputs": [],
   "source": [
    "import pandas as pd\n",
    "import numpy as np\n",
    "from numpy.random import randn"
   ]
  },
  {
   "cell_type": "code",
   "execution_count": 2,
   "id": "884cf421",
   "metadata": {},
   "outputs": [],
   "source": [
    "array_1 = np.array([1,2,3])"
   ]
  },
  {
   "cell_type": "code",
   "execution_count": 3,
   "id": "9be109b8",
   "metadata": {},
   "outputs": [
    {
     "data": {
      "text/plain": [
       "array([1, 2, 3])"
      ]
     },
     "execution_count": 3,
     "metadata": {},
     "output_type": "execute_result"
    }
   ],
   "source": [
    "array_1"
   ]
  },
  {
   "cell_type": "code",
   "execution_count": 4,
   "id": "a4a7acfe",
   "metadata": {},
   "outputs": [
    {
     "data": {
      "text/plain": [
       "numpy.ndarray"
      ]
     },
     "execution_count": 4,
     "metadata": {},
     "output_type": "execute_result"
    }
   ],
   "source": [
    "type(array_1)"
   ]
  },
  {
   "cell_type": "code",
   "execution_count": 5,
   "id": "9bcb0b6a",
   "metadata": {},
   "outputs": [],
   "source": [
    "array_2 = np.array([-1,4,2])"
   ]
  },
  {
   "cell_type": "code",
   "execution_count": 6,
   "id": "0fc6822c",
   "metadata": {},
   "outputs": [
    {
     "name": "stdout",
     "output_type": "stream",
     "text": [
      "[-1  4  2]\n"
     ]
    }
   ],
   "source": [
    "print(array_2)"
   ]
  },
  {
   "cell_type": "code",
   "execution_count": 7,
   "id": "2457191b",
   "metadata": {},
   "outputs": [
    {
     "data": {
      "text/plain": [
       "3"
      ]
     },
     "execution_count": 7,
     "metadata": {},
     "output_type": "execute_result"
    }
   ],
   "source": [
    "len(array_1)"
   ]
  },
  {
   "cell_type": "code",
   "execution_count": 8,
   "id": "b73b8a69",
   "metadata": {},
   "outputs": [
    {
     "data": {
      "text/plain": [
       "3"
      ]
     },
     "execution_count": 8,
     "metadata": {},
     "output_type": "execute_result"
    }
   ],
   "source": [
    "len(array_2)"
   ]
  },
  {
   "cell_type": "code",
   "execution_count": 9,
   "id": "dd332838",
   "metadata": {},
   "outputs": [],
   "source": [
    "#We want to perform the dot product of these \n",
    "#array\n",
    "for i in range(len(array_1)):\n",
    "    dot = sum(array_1*array_2)"
   ]
  },
  {
   "cell_type": "code",
   "execution_count": 10,
   "id": "f0457ef2",
   "metadata": {
    "scrolled": true
   },
   "outputs": [
    {
     "name": "stdout",
     "output_type": "stream",
     "text": [
      "13\n"
     ]
    }
   ],
   "source": [
    "print(dot)"
   ]
  },
  {
   "cell_type": "code",
   "execution_count": 12,
   "id": "eb6ab726",
   "metadata": {},
   "outputs": [
    {
     "data": {
      "text/plain": [
       "13"
      ]
     },
     "execution_count": 12,
     "metadata": {},
     "output_type": "execute_result"
    }
   ],
   "source": [
    "array_1@array_2"
   ]
  },
  {
   "cell_type": "code",
   "execution_count": 13,
   "id": "3f7f3626",
   "metadata": {},
   "outputs": [
    {
     "data": {
      "text/plain": [
       "13"
      ]
     },
     "execution_count": 13,
     "metadata": {},
     "output_type": "execute_result"
    }
   ],
   "source": [
    "array_1.dot(array_2)"
   ]
  },
  {
   "cell_type": "code",
   "execution_count": 14,
   "id": "e3b3744d",
   "metadata": {},
   "outputs": [],
   "source": [
    "array_3 = array_1**2"
   ]
  },
  {
   "cell_type": "code",
   "execution_count": 15,
   "id": "e9d137b3",
   "metadata": {},
   "outputs": [
    {
     "data": {
      "text/plain": [
       "array([1, 4, 9])"
      ]
     },
     "execution_count": 15,
     "metadata": {},
     "output_type": "execute_result"
    }
   ],
   "source": [
    "array_3"
   ]
  },
  {
   "cell_type": "code",
   "execution_count": 16,
   "id": "26004845",
   "metadata": {},
   "outputs": [
    {
     "name": "stdout",
     "output_type": "stream",
     "text": [
      "[1 4 9]\n"
     ]
    }
   ],
   "source": [
    "print(array_3)"
   ]
  },
  {
   "cell_type": "code",
   "execution_count": 22,
   "id": "0616c539",
   "metadata": {},
   "outputs": [
    {
     "data": {
      "text/plain": [
       "[1, 2, 3, 1, 2, 3]"
      ]
     },
     "execution_count": 22,
     "metadata": {},
     "output_type": "execute_result"
    }
   ],
   "source": [
    "L1 = [1,2,3]\n",
    "L2 = L1*2\n",
    "L2"
   ]
  },
  {
   "cell_type": "code",
   "execution_count": 17,
   "id": "7cbcd564",
   "metadata": {},
   "outputs": [],
   "source": [
    "array_4 = np.sqrt(array_1)"
   ]
  },
  {
   "cell_type": "code",
   "execution_count": 18,
   "id": "76e84cdc",
   "metadata": {},
   "outputs": [
    {
     "name": "stdout",
     "output_type": "stream",
     "text": [
      "[1.         1.41421356 1.73205081]\n"
     ]
    }
   ],
   "source": [
    "print(array_4)"
   ]
  },
  {
   "cell_type": "code",
   "execution_count": 20,
   "id": "d57effc0",
   "metadata": {},
   "outputs": [
    {
     "name": "stdout",
     "output_type": "stream",
     "text": [
      "[2.         3.41421356 4.73205081]\n"
     ]
    }
   ],
   "source": [
    "array_5 = array_4 +array_1\n",
    "print(array_5)"
   ]
  },
  {
   "cell_type": "code",
   "execution_count": 21,
   "id": "d2ff1af4",
   "metadata": {},
   "outputs": [],
   "source": [
    "#Broadcasting"
   ]
  },
  {
   "cell_type": "code",
   "execution_count": 24,
   "id": "f44d61ab",
   "metadata": {},
   "outputs": [],
   "source": [
    "array_6 = np.array([1,2,3,4,5,6,7,8,9])"
   ]
  },
  {
   "cell_type": "code",
   "execution_count": 25,
   "id": "c0f68093",
   "metadata": {},
   "outputs": [
    {
     "name": "stdout",
     "output_type": "stream",
     "text": [
      "[100 100 100 100 100   6   7   8   9]\n"
     ]
    }
   ],
   "source": [
    "array_6[0:5] = 100\n",
    "print(array_6)"
   ]
  },
  {
   "cell_type": "code",
   "execution_count": 26,
   "id": "78d77c20",
   "metadata": {},
   "outputs": [],
   "source": [
    "array_6[3:7] = 1"
   ]
  },
  {
   "cell_type": "code",
   "execution_count": 27,
   "id": "2ffb9f3c",
   "metadata": {},
   "outputs": [
    {
     "name": "stdout",
     "output_type": "stream",
     "text": [
      "[100 100 100   1   1   1   1   8   9]\n"
     ]
    }
   ],
   "source": [
    "print(array_6)"
   ]
  },
  {
   "cell_type": "code",
   "execution_count": 28,
   "id": "55ae6559",
   "metadata": {},
   "outputs": [],
   "source": [
    "#Matrices"
   ]
  },
  {
   "cell_type": "code",
   "execution_count": 29,
   "id": "75aebe75",
   "metadata": {},
   "outputs": [],
   "source": [
    "M =np.array([[1,2,3],[7,8,9],[4,5,6]])"
   ]
  },
  {
   "cell_type": "code",
   "execution_count": 30,
   "id": "c8e93ad2",
   "metadata": {},
   "outputs": [
    {
     "data": {
      "text/plain": [
       "array([[1, 2, 3],\n",
       "       [7, 8, 9],\n",
       "       [4, 5, 6]])"
      ]
     },
     "execution_count": 30,
     "metadata": {},
     "output_type": "execute_result"
    }
   ],
   "source": [
    "M"
   ]
  },
  {
   "cell_type": "code",
   "execution_count": 31,
   "id": "97a80894",
   "metadata": {},
   "outputs": [],
   "source": [
    "L = np.linspace(1,9,9)"
   ]
  },
  {
   "cell_type": "code",
   "execution_count": 32,
   "id": "669df0ab",
   "metadata": {},
   "outputs": [
    {
     "data": {
      "text/plain": [
       "array([1., 2., 3., 4., 5., 6., 7., 8., 9.])"
      ]
     },
     "execution_count": 32,
     "metadata": {},
     "output_type": "execute_result"
    }
   ],
   "source": [
    "L"
   ]
  },
  {
   "cell_type": "code",
   "execution_count": 34,
   "id": "e4ece792",
   "metadata": {},
   "outputs": [],
   "source": [
    "M = L.reshape(3,3)"
   ]
  },
  {
   "cell_type": "code",
   "execution_count": 35,
   "id": "b94a9b78",
   "metadata": {},
   "outputs": [
    {
     "data": {
      "text/plain": [
       "array([[1., 2., 3.],\n",
       "       [4., 5., 6.],\n",
       "       [7., 8., 9.]])"
      ]
     },
     "execution_count": 35,
     "metadata": {},
     "output_type": "execute_result"
    }
   ],
   "source": [
    "M"
   ]
  },
  {
   "cell_type": "code",
   "execution_count": null,
   "id": "113b50e3",
   "metadata": {},
   "outputs": [],
   "source": []
  }
 ],
 "metadata": {
  "kernelspec": {
   "display_name": "Python 3 (ipykernel)",
   "language": "python",
   "name": "python3"
  },
  "language_info": {
   "codemirror_mode": {
    "name": "ipython",
    "version": 3
   },
   "file_extension": ".py",
   "mimetype": "text/x-python",
   "name": "python",
   "nbconvert_exporter": "python",
   "pygments_lexer": "ipython3",
   "version": "3.9.12"
  }
 },
 "nbformat": 4,
 "nbformat_minor": 5
}
