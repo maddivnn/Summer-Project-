{
 "cells": [
  {
   "cell_type": "markdown",
   "id": "76005505",
   "metadata": {},
   "source": [
    "# Day 3\n",
    "\n",
    " * Data Types\n",
    "     * Numbers \n",
    "     * Strings\n",
    "     * Variable Assignemnt\n",
    "     * Printing \n",
    "     * String Methods \n",
    "     * Lists \n",
    "     * Dictionaries \n",
    "     * Boolians \n",
    "     * Tuples \n",
    "     * Sets \n",
    "     \n",
    "* Basic Operations \n",
    "    * Comaparison \n",
    "    * if, elif, else statements\n",
    "    * for loops \n",
    "    * While loops \n",
    "    * range()\n",
    "    * linspace()\n",
    "    * list comprehension\n",
    "    * functions\n",
    "    * Lambda expressions\n",
    "    * Map & filter"
   ]
  },
  {
   "cell_type": "markdown",
   "id": "b7db1a7a",
   "metadata": {},
   "source": [
    "## Numbers "
   ]
  },
  {
   "cell_type": "code",
   "execution_count": 1,
   "id": "22f49383",
   "metadata": {},
   "outputs": [
    {
     "data": {
      "text/plain": [
       "4"
      ]
     },
     "execution_count": 1,
     "metadata": {},
     "output_type": "execute_result"
    }
   ],
   "source": [
    "1+3"
   ]
  },
  {
   "cell_type": "code",
   "execution_count": 2,
   "id": "172ee272",
   "metadata": {},
   "outputs": [
    {
     "data": {
      "text/plain": [
       "18"
      ]
     },
     "execution_count": 2,
     "metadata": {},
     "output_type": "execute_result"
    }
   ],
   "source": [
    "(1+5)*(5-2)"
   ]
  },
  {
   "cell_type": "code",
   "execution_count": 3,
   "id": "f4791c53",
   "metadata": {},
   "outputs": [
    {
     "data": {
      "text/plain": [
       "27"
      ]
     },
     "execution_count": 3,
     "metadata": {},
     "output_type": "execute_result"
    }
   ],
   "source": [
    "3**3"
   ]
  },
  {
   "cell_type": "markdown",
   "id": "fbccd762",
   "metadata": {},
   "source": [
    "This $\\%$ will return the remainder of the opreation "
   ]
  },
  {
   "cell_type": "code",
   "execution_count": 4,
   "id": "6340f8b4",
   "metadata": {},
   "outputs": [
    {
     "data": {
      "text/plain": [
       "1"
      ]
     },
     "execution_count": 4,
     "metadata": {},
     "output_type": "execute_result"
    }
   ],
   "source": [
    "13%3"
   ]
  },
  {
   "cell_type": "code",
   "execution_count": 5,
   "id": "105a07d3",
   "metadata": {},
   "outputs": [
    {
     "data": {
      "text/plain": [
       "3"
      ]
     },
     "execution_count": 5,
     "metadata": {},
     "output_type": "execute_result"
    }
   ],
   "source": [
    "15//4"
   ]
  },
  {
   "cell_type": "code",
   "execution_count": 6,
   "id": "d55f7018",
   "metadata": {},
   "outputs": [
    {
     "data": {
      "text/plain": [
       "0"
      ]
     },
     "execution_count": 6,
     "metadata": {},
     "output_type": "execute_result"
    }
   ],
   "source": [
    "3//4"
   ]
  },
  {
   "cell_type": "code",
   "execution_count": 7,
   "id": "e41819cc",
   "metadata": {},
   "outputs": [
    {
     "data": {
      "text/plain": [
       "1.5"
      ]
     },
     "execution_count": 7,
     "metadata": {},
     "output_type": "execute_result"
    }
   ],
   "source": [
    "3/2"
   ]
  },
  {
   "cell_type": "code",
   "execution_count": 8,
   "id": "e3514cb0",
   "metadata": {},
   "outputs": [
    {
     "data": {
      "text/plain": [
       "1"
      ]
     },
     "execution_count": 8,
     "metadata": {},
     "output_type": "execute_result"
    }
   ],
   "source": [
    "# This will return an interger as the quotient\n",
    "3//2"
   ]
  },
  {
   "cell_type": "code",
   "execution_count": 9,
   "id": "3145b17c",
   "metadata": {},
   "outputs": [
    {
     "data": {
      "text/plain": [
       "float"
      ]
     },
     "execution_count": 9,
     "metadata": {},
     "output_type": "execute_result"
    }
   ],
   "source": [
    "type (2.173279849)"
   ]
  },
  {
   "cell_type": "code",
   "execution_count": 10,
   "id": "0517e0a8",
   "metadata": {},
   "outputs": [
    {
     "data": {
      "text/plain": [
       "float"
      ]
     },
     "execution_count": 10,
     "metadata": {},
     "output_type": "execute_result"
    }
   ],
   "source": [
    "type(-3.4)"
   ]
  },
  {
   "cell_type": "code",
   "execution_count": 11,
   "id": "5ab72cf2",
   "metadata": {},
   "outputs": [
    {
     "data": {
      "text/plain": [
       "float"
      ]
     },
     "execution_count": 11,
     "metadata": {},
     "output_type": "execute_result"
    }
   ],
   "source": [
    "type((2)**0.5)"
   ]
  },
  {
   "cell_type": "code",
   "execution_count": 12,
   "id": "ebe4e3ff",
   "metadata": {},
   "outputs": [
    {
     "data": {
      "text/plain": [
       "4.0"
      ]
     },
     "execution_count": 12,
     "metadata": {},
     "output_type": "execute_result"
    }
   ],
   "source": [
    "(16)**0.5"
   ]
  },
  {
   "cell_type": "markdown",
   "id": "695ab5f6",
   "metadata": {},
   "source": [
    "## Strings"
   ]
  },
  {
   "cell_type": "code",
   "execution_count": 13,
   "id": "246eb597",
   "metadata": {},
   "outputs": [
    {
     "name": "stdout",
     "output_type": "stream",
     "text": [
      "I am a string and I am in a single quotation\n"
     ]
    }
   ],
   "source": [
    "# Strings are sequences of alpha character data. \n",
    "print('I am a string and I am in a single quotation')"
   ]
  },
  {
   "cell_type": "code",
   "execution_count": 14,
   "id": "b1731a73",
   "metadata": {},
   "outputs": [
    {
     "data": {
      "text/plain": [
       "str"
      ]
     },
     "execution_count": 14,
     "metadata": {},
     "output_type": "execute_result"
    }
   ],
   "source": [
    "type('I am a string and I am in a single quotation')"
   ]
  },
  {
   "cell_type": "code",
   "execution_count": 15,
   "id": "ceb8c391",
   "metadata": {},
   "outputs": [
    {
     "name": "stdout",
     "output_type": "stream",
     "text": [
      "I am a string and I am in a double quotation\n"
     ]
    }
   ],
   "source": [
    "print(\"I am a string and I am in a double quotation\")"
   ]
  },
  {
   "cell_type": "code",
   "execution_count": 16,
   "id": "0128dfcc",
   "metadata": {},
   "outputs": [
    {
     "data": {
      "text/plain": [
       "str"
      ]
     },
     "execution_count": 16,
     "metadata": {},
     "output_type": "execute_result"
    }
   ],
   "source": [
    "type(\"I am a string and I am in a double quotation\")"
   ]
  },
  {
   "cell_type": "code",
   "execution_count": 17,
   "id": "4bba10a8",
   "metadata": {},
   "outputs": [
    {
     "data": {
      "text/plain": [
       "str"
      ]
     },
     "execution_count": 17,
     "metadata": {},
     "output_type": "execute_result"
    }
   ],
   "source": [
    "type(\" \")"
   ]
  },
  {
   "cell_type": "markdown",
   "id": "5ea59e44",
   "metadata": {},
   "source": [
    "## Variable Assignment "
   ]
  },
  {
   "cell_type": "code",
   "execution_count": 18,
   "id": "f6c19828",
   "metadata": {},
   "outputs": [],
   "source": [
    "name = 'Madison'"
   ]
  },
  {
   "cell_type": "code",
   "execution_count": 19,
   "id": "8b16cc03",
   "metadata": {},
   "outputs": [
    {
     "ename": "SyntaxError",
     "evalue": "invalid decimal literal (739953904.py, line 1)",
     "output_type": "error",
     "traceback": [
      "\u001b[0;36m  Input \u001b[0;32mIn [19]\u001b[0;36m\u001b[0m\n\u001b[0;31m    123_var = 10\u001b[0m\n\u001b[0m       ^\u001b[0m\n\u001b[0;31mSyntaxError\u001b[0m\u001b[0;31m:\u001b[0m invalid decimal literal\n"
     ]
    }
   ],
   "source": [
    "123_var = 10"
   ]
  },
  {
   "cell_type": "code",
   "execution_count": 24,
   "id": "0ff4448f",
   "metadata": {},
   "outputs": [],
   "source": [
    "var_123 = 4"
   ]
  },
  {
   "cell_type": "code",
   "execution_count": 25,
   "id": "bf9464fb",
   "metadata": {},
   "outputs": [],
   "source": [
    "x = 1\n",
    "y = 2 \n",
    "z = x + y"
   ]
  },
  {
   "cell_type": "code",
   "execution_count": 26,
   "id": "f9786b94",
   "metadata": {},
   "outputs": [
    {
     "data": {
      "text/plain": [
       "3"
      ]
     },
     "execution_count": 26,
     "metadata": {},
     "output_type": "execute_result"
    }
   ],
   "source": [
    "z "
   ]
  },
  {
   "cell_type": "code",
   "execution_count": 27,
   "id": "ae478d0c",
   "metadata": {
    "scrolled": true
   },
   "outputs": [
    {
     "name": "stdout",
     "output_type": "stream",
     "text": [
      "1\n"
     ]
    }
   ],
   "source": [
    "print(x)"
   ]
  },
  {
   "cell_type": "code",
   "execution_count": 28,
   "id": "6a182be8",
   "metadata": {},
   "outputs": [],
   "source": [
    "x = 'Madison'"
   ]
  },
  {
   "cell_type": "code",
   "execution_count": 29,
   "id": "b8766caa",
   "metadata": {},
   "outputs": [
    {
     "data": {
      "text/plain": [
       "'Madison'"
      ]
     },
     "execution_count": 29,
     "metadata": {},
     "output_type": "execute_result"
    }
   ],
   "source": [
    "x"
   ]
  },
  {
   "cell_type": "code",
   "execution_count": 30,
   "id": "94b8174b",
   "metadata": {},
   "outputs": [
    {
     "name": "stdout",
     "output_type": "stream",
     "text": [
      "Madison\n"
     ]
    }
   ],
   "source": [
    "print(x)"
   ]
  },
  {
   "cell_type": "code",
   "execution_count": 31,
   "id": "e248d0c5",
   "metadata": {},
   "outputs": [],
   "source": [
    "name = 'Madison'"
   ]
  },
  {
   "cell_type": "code",
   "execution_count": 32,
   "id": "a29fa36d",
   "metadata": {},
   "outputs": [
    {
     "name": "stdout",
     "output_type": "stream",
     "text": [
      "Hello Madison welcome to REU\n"
     ]
    }
   ],
   "source": [
    "print('Hello',name,\"welcome to REU\")"
   ]
  },
  {
   "cell_type": "code",
   "execution_count": 33,
   "id": "5ef7cb6b",
   "metadata": {},
   "outputs": [
    {
     "name": "stdout",
     "output_type": "stream",
     "text": [
      "Hello Madison welcome to REU\n"
     ]
    }
   ],
   "source": [
    "print('Hello ' + name + \" welcome to REU\")"
   ]
  },
  {
   "cell_type": "code",
   "execution_count": 34,
   "id": "a6a645d0",
   "metadata": {},
   "outputs": [],
   "source": [
    "first_name = 'Madison'\n",
    "last_name = 'Norwood'"
   ]
  },
  {
   "cell_type": "code",
   "execution_count": 35,
   "id": "303c6377",
   "metadata": {},
   "outputs": [
    {
     "name": "stdout",
     "output_type": "stream",
     "text": [
      "Hello HU! My first name is: Madison and my last name is Norwood\n"
     ]
    }
   ],
   "source": [
    "print('Hello HU! My first name is: {One} and my last name is {Two}'.format(Two=last_name, One=first_name))"
   ]
  },
  {
   "cell_type": "code",
   "execution_count": 36,
   "id": "9ed38b12",
   "metadata": {},
   "outputs": [
    {
     "name": "stdout",
     "output_type": "stream",
     "text": [
      "Hello HU! My first name is: Madison and my last name is Norwood\n"
     ]
    }
   ],
   "source": [
    "print('Hello HU! My first name is: {} and my last name is {}'.format(first_name, last_name))"
   ]
  },
  {
   "cell_type": "markdown",
   "id": "35cdd1ff",
   "metadata": {},
   "source": [
    "## String Method"
   ]
  },
  {
   "cell_type": "code",
   "execution_count": 37,
   "id": "3f42a53e",
   "metadata": {},
   "outputs": [],
   "source": [
    "name = 'madison'"
   ]
  },
  {
   "cell_type": "code",
   "execution_count": 38,
   "id": "d4b533ef",
   "metadata": {},
   "outputs": [
    {
     "name": "stdout",
     "output_type": "stream",
     "text": [
      "Madison\n"
     ]
    }
   ],
   "source": [
    "# Title method \n",
    "print(name.title())"
   ]
  },
  {
   "cell_type": "code",
   "execution_count": 39,
   "id": "2cff16be",
   "metadata": {},
   "outputs": [
    {
     "name": "stdout",
     "output_type": "stream",
     "text": [
      "MADISON\n"
     ]
    }
   ],
   "source": [
    "# Upper method \n",
    "print(name.upper())"
   ]
  },
  {
   "cell_type": "code",
   "execution_count": 40,
   "id": "cad8e4cd",
   "metadata": {},
   "outputs": [],
   "source": [
    "# Lower method \n",
    "school = 'HOWARD UNIVERSITY'"
   ]
  },
  {
   "cell_type": "code",
   "execution_count": 41,
   "id": "74988e75",
   "metadata": {},
   "outputs": [
    {
     "name": "stdout",
     "output_type": "stream",
     "text": [
      "howard university\n"
     ]
    }
   ],
   "source": [
    "print(school.lower())"
   ]
  },
  {
   "cell_type": "code",
   "execution_count": 42,
   "id": "4763c4c4",
   "metadata": {},
   "outputs": [
    {
     "name": "stdout",
     "output_type": "stream",
     "text": [
      "['HOWARD', 'UNIVERSITY']\n"
     ]
    }
   ],
   "source": [
    "print(school.split())"
   ]
  },
  {
   "cell_type": "code",
   "execution_count": 43,
   "id": "327502d7",
   "metadata": {},
   "outputs": [],
   "source": [
    "a_string = 'h+e+l+l+o'"
   ]
  },
  {
   "cell_type": "code",
   "execution_count": 44,
   "id": "4115cc5d",
   "metadata": {},
   "outputs": [
    {
     "name": "stdout",
     "output_type": "stream",
     "text": [
      "['h', 'e', 'l', 'l', 'o']\n"
     ]
    }
   ],
   "source": [
    "print(a_string.split('+'))"
   ]
  },
  {
   "cell_type": "code",
   "execution_count": 45,
   "id": "7c389eb3",
   "metadata": {},
   "outputs": [
    {
     "name": "stdout",
     "output_type": "stream",
     "text": [
      "3\n"
     ]
    }
   ],
   "source": [
    "# Count method\n",
    "activity = 'I am learning Python'\n",
    "print(activity.count('n'))"
   ]
  },
  {
   "cell_type": "code",
   "execution_count": 46,
   "id": "fac2cb72",
   "metadata": {},
   "outputs": [
    {
     "name": "stdout",
     "output_type": "stream",
     "text": [
      "I am learning Python\n"
     ]
    }
   ],
   "source": [
    "# Center method\n",
    "print(activity.center(20))"
   ]
  },
  {
   "cell_type": "code",
   "execution_count": 47,
   "id": "ea371f29",
   "metadata": {},
   "outputs": [
    {
     "name": "stdout",
     "output_type": "stream",
     "text": [
      "                    I am learning Python                    \n"
     ]
    }
   ],
   "source": [
    "print(activity.center(60))"
   ]
  },
  {
   "cell_type": "code",
   "execution_count": 48,
   "id": "5fe01797",
   "metadata": {},
   "outputs": [
    {
     "name": "stdout",
     "output_type": "stream",
     "text": [
      "                                        I am learning Python                                        \n"
     ]
    }
   ],
   "source": [
    "print(activity.center(100))"
   ]
  },
  {
   "cell_type": "code",
   "execution_count": 49,
   "id": "09aa2ee1",
   "metadata": {},
   "outputs": [
    {
     "data": {
      "text/plain": [
       "str"
      ]
     },
     "execution_count": 49,
     "metadata": {},
     "output_type": "execute_result"
    }
   ],
   "source": [
    "type('12345')"
   ]
  },
  {
   "cell_type": "code",
   "execution_count": 50,
   "id": "bae235ec",
   "metadata": {},
   "outputs": [],
   "source": [
    "num_str = '12345'"
   ]
  },
  {
   "cell_type": "code",
   "execution_count": 51,
   "id": "e52d1076",
   "metadata": {},
   "outputs": [
    {
     "name": "stdout",
     "output_type": "stream",
     "text": [
      "True\n"
     ]
    }
   ],
   "source": [
    "print(num_str.isnumeric())"
   ]
  },
  {
   "cell_type": "code",
   "execution_count": 52,
   "id": "0e6cc1ff",
   "metadata": {},
   "outputs": [
    {
     "name": "stdout",
     "output_type": "stream",
     "text": [
      "False\n"
     ]
    }
   ],
   "source": [
    "print(school.isnumeric())"
   ]
  },
  {
   "cell_type": "code",
   "execution_count": 53,
   "id": "8ebd184f",
   "metadata": {},
   "outputs": [],
   "source": [
    "# Strip method\n",
    "name = \"  abc   \""
   ]
  },
  {
   "cell_type": "code",
   "execution_count": 54,
   "id": "e1caf491",
   "metadata": {},
   "outputs": [
    {
     "data": {
      "text/plain": [
       "8"
      ]
     },
     "execution_count": 54,
     "metadata": {},
     "output_type": "execute_result"
    }
   ],
   "source": [
    "# len will return the length of the strings \n",
    "len(name)\n"
   ]
  },
  {
   "cell_type": "code",
   "execution_count": 55,
   "id": "ce6e423b",
   "metadata": {},
   "outputs": [],
   "source": [
    "a = name.lstrip()"
   ]
  },
  {
   "cell_type": "code",
   "execution_count": 56,
   "id": "70421425",
   "metadata": {},
   "outputs": [
    {
     "data": {
      "text/plain": [
       "6"
      ]
     },
     "execution_count": 56,
     "metadata": {},
     "output_type": "execute_result"
    }
   ],
   "source": [
    "len(a)"
   ]
  },
  {
   "cell_type": "code",
   "execution_count": 57,
   "id": "cbb274d0",
   "metadata": {},
   "outputs": [
    {
     "data": {
      "text/plain": [
       "5"
      ]
     },
     "execution_count": 57,
     "metadata": {},
     "output_type": "execute_result"
    }
   ],
   "source": [
    "b = name.rstrip()\n",
    "len(b)"
   ]
  },
  {
   "cell_type": "code",
   "execution_count": 58,
   "id": "643606e8",
   "metadata": {},
   "outputs": [
    {
     "data": {
      "text/plain": [
       "3"
      ]
     },
     "execution_count": 58,
     "metadata": {},
     "output_type": "execute_result"
    }
   ],
   "source": [
    "c = name.strip()\n",
    "len(c)"
   ]
  },
  {
   "cell_type": "code",
   "execution_count": 59,
   "id": "ee82a7d2",
   "metadata": {},
   "outputs": [],
   "source": [
    "# list is used to store multiple variables into a single variable \n",
    "# every list has to be stored between sqaure brackets\n",
    "a_list = ['Fruits', ' Vegetables', 'Seafood', \"Meat lover\"]"
   ]
  },
  {
   "cell_type": "code",
   "execution_count": 60,
   "id": "58f30688",
   "metadata": {},
   "outputs": [
    {
     "data": {
      "text/plain": [
       "'Fruits'"
      ]
     },
     "execution_count": 60,
     "metadata": {},
     "output_type": "execute_result"
    }
   ],
   "source": [
    "a_list[0]"
   ]
  },
  {
   "cell_type": "code",
   "execution_count": 61,
   "id": "7a81d9f8",
   "metadata": {},
   "outputs": [
    {
     "name": "stdout",
     "output_type": "stream",
     "text": [
      "Fruits\n"
     ]
    }
   ],
   "source": [
    "print(a_list[0])"
   ]
  },
  {
   "cell_type": "code",
   "execution_count": 62,
   "id": "c4c00b76",
   "metadata": {},
   "outputs": [
    {
     "data": {
      "text/plain": [
       "'Meat lover'"
      ]
     },
     "execution_count": 62,
     "metadata": {},
     "output_type": "execute_result"
    }
   ],
   "source": [
    "a_list[-1]"
   ]
  },
  {
   "cell_type": "code",
   "execution_count": 63,
   "id": "8a3bcf76",
   "metadata": {},
   "outputs": [
    {
     "data": {
      "text/plain": [
       "['Fruits', ' Vegetables', 'Seafood']"
      ]
     },
     "execution_count": 63,
     "metadata": {},
     "output_type": "execute_result"
    }
   ],
   "source": [
    "a_list[0:3]\n",
    "# Note that the index 3 -Meat Lover- is excluded"
   ]
  },
  {
   "cell_type": "code",
   "execution_count": 64,
   "id": "147971df",
   "metadata": {},
   "outputs": [
    {
     "data": {
      "text/plain": [
       "['Fruits', ' Vegetables', 'Seafood', 'Meat lover']"
      ]
     },
     "execution_count": 64,
     "metadata": {},
     "output_type": "execute_result"
    }
   ],
   "source": [
    "a_list[0:5]"
   ]
  },
  {
   "cell_type": "code",
   "execution_count": 65,
   "id": "833f3dad",
   "metadata": {},
   "outputs": [],
   "source": [
    "a_list[0] = 'Salad'"
   ]
  },
  {
   "cell_type": "code",
   "execution_count": 66,
   "id": "ec53d29d",
   "metadata": {},
   "outputs": [
    {
     "data": {
      "text/plain": [
       "['Salad', ' Vegetables', 'Seafood', 'Meat lover']"
      ]
     },
     "execution_count": 66,
     "metadata": {},
     "output_type": "execute_result"
    }
   ],
   "source": [
    "a_list"
   ]
  },
  {
   "cell_type": "code",
   "execution_count": 67,
   "id": "d0b3f01a",
   "metadata": {},
   "outputs": [
    {
     "data": {
      "text/plain": [
       "['Meat lover', 'Seafood', ' Vegetables', 'Salad']"
      ]
     },
     "execution_count": 67,
     "metadata": {},
     "output_type": "execute_result"
    }
   ],
   "source": [
    "a_list[::-1]"
   ]
  },
  {
   "cell_type": "code",
   "execution_count": 68,
   "id": "46108bec",
   "metadata": {},
   "outputs": [
    {
     "data": {
      "text/plain": [
       "'HOWARD UNIVERSITY'"
      ]
     },
     "execution_count": 68,
     "metadata": {},
     "output_type": "execute_result"
    }
   ],
   "source": [
    "school[::]"
   ]
  },
  {
   "cell_type": "code",
   "execution_count": 69,
   "id": "2e5e05a9",
   "metadata": {},
   "outputs": [
    {
     "data": {
      "text/plain": [
       "'YTISREVINU DRAWOH'"
      ]
     },
     "execution_count": 69,
     "metadata": {},
     "output_type": "execute_result"
    }
   ],
   "source": [
    "school[::-1]"
   ]
  },
  {
   "cell_type": "code",
   "execution_count": 70,
   "id": "b74fec11",
   "metadata": {},
   "outputs": [],
   "source": [
    "a_list.append('Fish')"
   ]
  },
  {
   "cell_type": "code",
   "execution_count": 71,
   "id": "bbe3cdd4",
   "metadata": {},
   "outputs": [
    {
     "data": {
      "text/plain": [
       "['Salad', ' Vegetables', 'Seafood', 'Meat lover', 'Fish']"
      ]
     },
     "execution_count": 71,
     "metadata": {},
     "output_type": "execute_result"
    }
   ],
   "source": [
    "a_list"
   ]
  },
  {
   "cell_type": "code",
   "execution_count": 72,
   "id": "cf803d13",
   "metadata": {},
   "outputs": [],
   "source": [
    "a_list.insert(5,'Shrimp')"
   ]
  },
  {
   "cell_type": "code",
   "execution_count": 152,
   "id": "aa37c537",
   "metadata": {},
   "outputs": [
    {
     "data": {
      "text/plain": [
       "['Salad', 'Seafood', 'Cats', 'Meat lover', 'Shrimp']"
      ]
     },
     "execution_count": 152,
     "metadata": {},
     "output_type": "execute_result"
    }
   ],
   "source": [
    "a_list"
   ]
  },
  {
   "cell_type": "code",
   "execution_count": 74,
   "id": "c630e5e5",
   "metadata": {},
   "outputs": [
    {
     "data": {
      "text/plain": [
       "' Vegetables'"
      ]
     },
     "execution_count": 74,
     "metadata": {},
     "output_type": "execute_result"
    }
   ],
   "source": [
    "#pop method\n",
    "a_list.pop(1)"
   ]
  },
  {
   "cell_type": "code",
   "execution_count": 75,
   "id": "7c98e2a4",
   "metadata": {},
   "outputs": [
    {
     "data": {
      "text/plain": [
       "['Salad', 'Seafood', 'Meat lover', 'Fish', 'Shrimp']"
      ]
     },
     "execution_count": 75,
     "metadata": {},
     "output_type": "execute_result"
    }
   ],
   "source": [
    "a_list"
   ]
  },
  {
   "cell_type": "code",
   "execution_count": 76,
   "id": "a7135cf9",
   "metadata": {},
   "outputs": [],
   "source": [
    "# Remove method \n",
    "a_list.remove('Fish')"
   ]
  },
  {
   "cell_type": "code",
   "execution_count": 77,
   "id": "35afb627",
   "metadata": {},
   "outputs": [
    {
     "data": {
      "text/plain": [
       "['Salad', 'Seafood', 'Meat lover', 'Shrimp']"
      ]
     },
     "execution_count": 77,
     "metadata": {},
     "output_type": "execute_result"
    }
   ],
   "source": [
    "a_list"
   ]
  },
  {
   "cell_type": "code",
   "execution_count": 78,
   "id": "50a9bbf3",
   "metadata": {},
   "outputs": [],
   "source": [
    "a_list.insert(2, 'Cats')"
   ]
  },
  {
   "cell_type": "code",
   "execution_count": 79,
   "id": "76dfd2e1",
   "metadata": {},
   "outputs": [
    {
     "data": {
      "text/plain": [
       "['Salad', 'Seafood', 'Cats', 'Meat lover', 'Shrimp']"
      ]
     },
     "execution_count": 79,
     "metadata": {},
     "output_type": "execute_result"
    }
   ],
   "source": [
    "a_list"
   ]
  },
  {
   "cell_type": "code",
   "execution_count": 80,
   "id": "6eac1629",
   "metadata": {},
   "outputs": [],
   "source": [
    "b_list = ['a','b','c','d']"
   ]
  },
  {
   "cell_type": "code",
   "execution_count": 81,
   "id": "0b4534d4",
   "metadata": {},
   "outputs": [
    {
     "data": {
      "text/plain": [
       "['Salad', 'Seafood', 'Cats', 'Meat lover', 'Shrimp', 'a', 'b', 'c', 'd']"
      ]
     },
     "execution_count": 81,
     "metadata": {},
     "output_type": "execute_result"
    }
   ],
   "source": [
    "a_list + b_list"
   ]
  },
  {
   "cell_type": "code",
   "execution_count": 82,
   "id": "e08b9e5b",
   "metadata": {},
   "outputs": [
    {
     "name": "stdout",
     "output_type": "stream",
     "text": [
      "['Salad', 'Seafood', 'Cats', 'Meat lover', 'Shrimp']\n"
     ]
    }
   ],
   "source": [
    "print(a_list)"
   ]
  },
  {
   "cell_type": "code",
   "execution_count": 83,
   "id": "b6e4cb13",
   "metadata": {},
   "outputs": [],
   "source": [
    "add_list = a_list + b_list"
   ]
  },
  {
   "cell_type": "code",
   "execution_count": 84,
   "id": "623bd2a9",
   "metadata": {},
   "outputs": [
    {
     "name": "stdout",
     "output_type": "stream",
     "text": [
      "['Salad', 'Seafood', 'Cats', 'Meat lover', 'Shrimp', 'a', 'b', 'c', 'd']\n"
     ]
    }
   ],
   "source": [
    "print(add_list)"
   ]
  },
  {
   "cell_type": "markdown",
   "id": "b4d91586",
   "metadata": {},
   "source": [
    "## Dictionary "
   ]
  },
  {
   "cell_type": "markdown",
   "id": "c085d3de",
   "metadata": {},
   "source": [
    "##### Dictionaries are used to store data in key value pairs"
   ]
  },
  {
   "cell_type": "code",
   "execution_count": 85,
   "id": "272e5192",
   "metadata": {},
   "outputs": [],
   "source": [
    "first_dict = {\n",
    "    \"brand\": \"Ford\",\n",
    "    \"model\": \"Mustang\",\n",
    "    \"year\": 1964,\n",
    "    \"Mileage\" : 200000,\n",
    "    'Color' : 'Green',\n",
    "    \"Cylinder\" : 6\n",
    "}"
   ]
  },
  {
   "cell_type": "code",
   "execution_count": 86,
   "id": "fa92f56b",
   "metadata": {},
   "outputs": [
    {
     "data": {
      "text/plain": [
       "'Mustang'"
      ]
     },
     "execution_count": 86,
     "metadata": {},
     "output_type": "execute_result"
    }
   ],
   "source": [
    "first_dict['model']"
   ]
  },
  {
   "cell_type": "code",
   "execution_count": 87,
   "id": "5bf32f3c",
   "metadata": {},
   "outputs": [],
   "source": [
    "first_dict['Origin'] = 'Domestic'"
   ]
  },
  {
   "cell_type": "code",
   "execution_count": 88,
   "id": "a99c2b5e",
   "metadata": {},
   "outputs": [
    {
     "data": {
      "text/plain": [
       "{'brand': 'Ford',\n",
       " 'model': 'Mustang',\n",
       " 'year': 1964,\n",
       " 'Mileage': 200000,\n",
       " 'Color': 'Green',\n",
       " 'Cylinder': 6,\n",
       " 'Origin': 'Domestic'}"
      ]
     },
     "execution_count": 88,
     "metadata": {},
     "output_type": "execute_result"
    }
   ],
   "source": [
    "first_dict"
   ]
  },
  {
   "cell_type": "code",
   "execution_count": 89,
   "id": "c4c88d27",
   "metadata": {},
   "outputs": [
    {
     "data": {
      "text/plain": [
       "'Green'"
      ]
     },
     "execution_count": 89,
     "metadata": {},
     "output_type": "execute_result"
    }
   ],
   "source": [
    "first_dict.pop('Color')"
   ]
  },
  {
   "cell_type": "code",
   "execution_count": 90,
   "id": "b62791be",
   "metadata": {},
   "outputs": [
    {
     "data": {
      "text/plain": [
       "{'brand': 'Ford',\n",
       " 'model': 'Mustang',\n",
       " 'year': 1964,\n",
       " 'Mileage': 200000,\n",
       " 'Cylinder': 6,\n",
       " 'Origin': 'Domestic'}"
      ]
     },
     "execution_count": 90,
     "metadata": {},
     "output_type": "execute_result"
    }
   ],
   "source": [
    "first_dict"
   ]
  },
  {
   "cell_type": "code",
   "execution_count": 91,
   "id": "8d392fc8",
   "metadata": {},
   "outputs": [
    {
     "data": {
      "text/plain": [
       "dict_items([('brand', 'Ford'), ('model', 'Mustang'), ('year', 1964), ('Mileage', 200000), ('Cylinder', 6), ('Origin', 'Domestic')])"
      ]
     },
     "execution_count": 91,
     "metadata": {},
     "output_type": "execute_result"
    }
   ],
   "source": [
    "first_dict.items()"
   ]
  },
  {
   "cell_type": "code",
   "execution_count": 92,
   "id": "4122ef0c",
   "metadata": {},
   "outputs": [
    {
     "data": {
      "text/plain": [
       "dict_keys(['brand', 'model', 'year', 'Mileage', 'Cylinder', 'Origin'])"
      ]
     },
     "execution_count": 92,
     "metadata": {},
     "output_type": "execute_result"
    }
   ],
   "source": [
    "first_dict.keys()"
   ]
  },
  {
   "cell_type": "code",
   "execution_count": 93,
   "id": "3e9a444a",
   "metadata": {},
   "outputs": [
    {
     "data": {
      "text/plain": [
       "{'brand': 'Ford',\n",
       " 'model': 'Mustang',\n",
       " 'year': 1964,\n",
       " 'Mileage': 200000,\n",
       " 'Cylinder': 6,\n",
       " 'Origin': 'Domestic'}"
      ]
     },
     "execution_count": 93,
     "metadata": {},
     "output_type": "execute_result"
    }
   ],
   "source": [
    "first_dict"
   ]
  },
  {
   "cell_type": "markdown",
   "id": "354bd6dd",
   "metadata": {},
   "source": [
    "## Boolian"
   ]
  },
  {
   "cell_type": "code",
   "execution_count": 94,
   "id": "0fca842f",
   "metadata": {},
   "outputs": [],
   "source": [
    "# True or Flase, Approved, Denied, Yes, Non, 1,0"
   ]
  },
  {
   "cell_type": "code",
   "execution_count": 95,
   "id": "ac7e208d",
   "metadata": {},
   "outputs": [
    {
     "data": {
      "text/plain": [
       "True"
      ]
     },
     "execution_count": 95,
     "metadata": {},
     "output_type": "execute_result"
    }
   ],
   "source": [
    "10 > 3"
   ]
  },
  {
   "cell_type": "code",
   "execution_count": 96,
   "id": "357c7544",
   "metadata": {},
   "outputs": [
    {
     "data": {
      "text/plain": [
       "False"
      ]
     },
     "execution_count": 96,
     "metadata": {},
     "output_type": "execute_result"
    }
   ],
   "source": [
    "-10 > 3"
   ]
  },
  {
   "cell_type": "code",
   "execution_count": 97,
   "id": "79918e9d",
   "metadata": {},
   "outputs": [
    {
     "name": "stdout",
     "output_type": "stream",
     "text": [
      "True\n"
     ]
    }
   ],
   "source": [
    "print((10 > 3) | (-2 > 5))"
   ]
  },
  {
   "cell_type": "code",
   "execution_count": 98,
   "id": "d3a9e167",
   "metadata": {},
   "outputs": [
    {
     "name": "stdout",
     "output_type": "stream",
     "text": [
      "False\n"
     ]
    }
   ],
   "source": [
    "print((10 > 3) & (-2 > 5))"
   ]
  },
  {
   "cell_type": "markdown",
   "id": "6812bf9f",
   "metadata": {},
   "source": [
    "## Tuples "
   ]
  },
  {
   "cell_type": "code",
   "execution_count": 99,
   "id": "1a0f6d0f",
   "metadata": {},
   "outputs": [],
   "source": [
    "# Unmutable data"
   ]
  },
  {
   "cell_type": "code",
   "execution_count": 100,
   "id": "20db4191",
   "metadata": {},
   "outputs": [],
   "source": [
    "my_tuple = ('user_name', 'password', 'secret_question')"
   ]
  },
  {
   "cell_type": "code",
   "execution_count": 101,
   "id": "4082f0f7",
   "metadata": {},
   "outputs": [],
   "source": [
    "a,b,c = my_tuple"
   ]
  },
  {
   "cell_type": "code",
   "execution_count": 102,
   "id": "3872f462",
   "metadata": {},
   "outputs": [
    {
     "data": {
      "text/plain": [
       "'user_name'"
      ]
     },
     "execution_count": 102,
     "metadata": {},
     "output_type": "execute_result"
    }
   ],
   "source": [
    "a"
   ]
  },
  {
   "cell_type": "code",
   "execution_count": 103,
   "id": "7155c823",
   "metadata": {},
   "outputs": [
    {
     "data": {
      "text/plain": [
       "'password'"
      ]
     },
     "execution_count": 103,
     "metadata": {},
     "output_type": "execute_result"
    }
   ],
   "source": [
    "b"
   ]
  },
  {
   "cell_type": "code",
   "execution_count": 104,
   "id": "c86420ca",
   "metadata": {},
   "outputs": [
    {
     "data": {
      "text/plain": [
       "'secret_question'"
      ]
     },
     "execution_count": 104,
     "metadata": {},
     "output_type": "execute_result"
    }
   ],
   "source": [
    "c"
   ]
  },
  {
   "cell_type": "code",
   "execution_count": 105,
   "id": "89f1a928",
   "metadata": {},
   "outputs": [
    {
     "data": {
      "text/plain": [
       "'user_name'"
      ]
     },
     "execution_count": 105,
     "metadata": {},
     "output_type": "execute_result"
    }
   ],
   "source": [
    "my_tuple[0]"
   ]
  },
  {
   "cell_type": "code",
   "execution_count": 106,
   "id": "91ec9cd0",
   "metadata": {},
   "outputs": [
    {
     "ename": "TypeError",
     "evalue": "'tuple' object does not support item assignment",
     "output_type": "error",
     "traceback": [
      "\u001b[0;31m---------------------------------------------------------------------------\u001b[0m",
      "\u001b[0;31mTypeError\u001b[0m                                 Traceback (most recent call last)",
      "Input \u001b[0;32mIn [106]\u001b[0m, in \u001b[0;36m<cell line: 1>\u001b[0;34m()\u001b[0m\n\u001b[0;32m----> 1\u001b[0m my_tuple[\u001b[38;5;241m0\u001b[39m] \u001b[38;5;241m=\u001b[39m \u001b[38;5;124m'\u001b[39m\u001b[38;5;124mname\u001b[39m\u001b[38;5;124m'\u001b[39m\n",
      "\u001b[0;31mTypeError\u001b[0m: 'tuple' object does not support item assignment"
     ]
    }
   ],
   "source": [
    "my_tuple[0] = 'name'"
   ]
  },
  {
   "cell_type": "code",
   "execution_count": 107,
   "id": "cd6ccf86",
   "metadata": {},
   "outputs": [],
   "source": [
    "l1 = [1,2,3,4,5]"
   ]
  },
  {
   "cell_type": "code",
   "execution_count": 108,
   "id": "f9e52ca2",
   "metadata": {},
   "outputs": [],
   "source": [
    "t1 = tuple(l1)"
   ]
  },
  {
   "cell_type": "code",
   "execution_count": 109,
   "id": "15beef53",
   "metadata": {},
   "outputs": [
    {
     "ename": "TypeError",
     "evalue": "'tuple' object does not support item assignment",
     "output_type": "error",
     "traceback": [
      "\u001b[0;31m---------------------------------------------------------------------------\u001b[0m",
      "\u001b[0;31mTypeError\u001b[0m                                 Traceback (most recent call last)",
      "Input \u001b[0;32mIn [109]\u001b[0m, in \u001b[0;36m<cell line: 1>\u001b[0;34m()\u001b[0m\n\u001b[0;32m----> 1\u001b[0m t1[\u001b[38;5;241m-\u001b[39m\u001b[38;5;241m1\u001b[39m] \u001b[38;5;241m=\u001b[39m\u001b[38;5;241m6\u001b[39m\n",
      "\u001b[0;31mTypeError\u001b[0m: 'tuple' object does not support item assignment"
     ]
    }
   ],
   "source": [
    "t1[-1] =6"
   ]
  },
  {
   "cell_type": "markdown",
   "id": "9ae37041",
   "metadata": {},
   "source": [
    "## Set "
   ]
  },
  {
   "cell_type": "code",
   "execution_count": 110,
   "id": "8b9dfc01",
   "metadata": {},
   "outputs": [
    {
     "data": {
      "text/plain": [
       "{1, 3, 4, 5, 6, 7}"
      ]
     },
     "execution_count": 110,
     "metadata": {},
     "output_type": "execute_result"
    }
   ],
   "source": [
    "set([1,1,1,3,3,4,5,6,7,7])"
   ]
  },
  {
   "cell_type": "markdown",
   "id": "ff60dccf",
   "metadata": {},
   "source": [
    "## Basic Operations "
   ]
  },
  {
   "cell_type": "code",
   "execution_count": 111,
   "id": "fc4b07ef",
   "metadata": {},
   "outputs": [
    {
     "data": {
      "text/plain": [
       "False"
      ]
     },
     "execution_count": 111,
     "metadata": {},
     "output_type": "execute_result"
    }
   ],
   "source": [
    "1 > 3"
   ]
  },
  {
   "cell_type": "code",
   "execution_count": 112,
   "id": "edb1c48d",
   "metadata": {},
   "outputs": [
    {
     "data": {
      "text/plain": [
       "True"
      ]
     },
     "execution_count": 112,
     "metadata": {},
     "output_type": "execute_result"
    }
   ],
   "source": [
    "5 >= 5"
   ]
  },
  {
   "cell_type": "code",
   "execution_count": 113,
   "id": "c7cb5038",
   "metadata": {},
   "outputs": [
    {
     "data": {
      "text/plain": [
       "True"
      ]
     },
     "execution_count": 113,
     "metadata": {},
     "output_type": "execute_result"
    }
   ],
   "source": [
    "1 == 1"
   ]
  },
  {
   "cell_type": "code",
   "execution_count": 114,
   "id": "31a9ed63",
   "metadata": {},
   "outputs": [
    {
     "data": {
      "text/plain": [
       "False"
      ]
     },
     "execution_count": 114,
     "metadata": {},
     "output_type": "execute_result"
    }
   ],
   "source": [
    "'Hi'== 'Bye'"
   ]
  },
  {
   "cell_type": "code",
   "execution_count": 115,
   "id": "2cb2ce8c",
   "metadata": {},
   "outputs": [
    {
     "data": {
      "text/plain": [
       "False"
      ]
     },
     "execution_count": 115,
     "metadata": {},
     "output_type": "execute_result"
    }
   ],
   "source": [
    "'Hi' == 'hi'"
   ]
  },
  {
   "cell_type": "code",
   "execution_count": 116,
   "id": "d2469c88",
   "metadata": {},
   "outputs": [],
   "source": [
    "x = 5"
   ]
  },
  {
   "cell_type": "markdown",
   "id": "204ea546",
   "metadata": {},
   "source": [
    "## If elif else"
   ]
  },
  {
   "cell_type": "code",
   "execution_count": 117,
   "id": "71974ad9",
   "metadata": {},
   "outputs": [
    {
     "name": "stdout",
     "output_type": "stream",
     "text": [
      "yes\n"
     ]
    }
   ],
   "source": [
    "if True: \n",
    "    print('yes')"
   ]
  },
  {
   "cell_type": "code",
   "execution_count": 118,
   "id": "a36be9b7",
   "metadata": {},
   "outputs": [],
   "source": [
    "if True == False: \n",
    "    print('Nope')"
   ]
  },
  {
   "cell_type": "code",
   "execution_count": 119,
   "id": "536799ad",
   "metadata": {},
   "outputs": [
    {
     "name": "stdout",
     "output_type": "stream",
     "text": [
      "same\n"
     ]
    }
   ],
   "source": [
    "if 2 > 5:\n",
    "    print(\"Bigger\")\n",
    "elif 3 <= 3:\n",
    "    print('same')\n",
    "else:\n",
    "    print('Different')"
   ]
  },
  {
   "cell_type": "code",
   "execution_count": 120,
   "id": "e6139f5a",
   "metadata": {},
   "outputs": [],
   "source": [
    "emp_names = [ 'John',  'Mia', 'Josh', 'Kevin', 'Lee']\n",
    "name = 'Jon'"
   ]
  },
  {
   "cell_type": "code",
   "execution_count": 121,
   "id": "7cc765f3",
   "metadata": {},
   "outputs": [
    {
     "name": "stdout",
     "output_type": "stream",
     "text": [
      "Sorry! Employees only\n"
     ]
    }
   ],
   "source": [
    "if name == 'John' or name == 'Mia' or name == 'Josh' or name == \"Lee\": \n",
    "    print('You are an employer. Hence access granted')\n",
    "else:\n",
    "    print('Sorry! Employees only')"
   ]
  },
  {
   "cell_type": "code",
   "execution_count": 122,
   "id": "ffb5e154",
   "metadata": {},
   "outputs": [],
   "source": [
    "name = 'Mia'"
   ]
  },
  {
   "cell_type": "code",
   "execution_count": 123,
   "id": "aee8c7be",
   "metadata": {},
   "outputs": [
    {
     "name": "stdout",
     "output_type": "stream",
     "text": [
      "You are an employer. Hence access granted\n"
     ]
    }
   ],
   "source": [
    "if name in emp_names:\n",
    "    print('You are an employer. Hence access granted')\n",
    "else:\n",
    "    print('Sorry! Employees only')"
   ]
  },
  {
   "cell_type": "markdown",
   "id": "f1412113",
   "metadata": {},
   "source": [
    "## Input"
   ]
  },
  {
   "cell_type": "code",
   "execution_count": 124,
   "id": "bbbaad97",
   "metadata": {},
   "outputs": [
    {
     "name": "stdout",
     "output_type": "stream",
     "text": [
      "Please enter your number:23\n"
     ]
    }
   ],
   "source": [
    "your_num = int(input(\"Please enter your number:\"))"
   ]
  },
  {
   "cell_type": "code",
   "execution_count": 21,
   "id": "56bc9e1a",
   "metadata": {},
   "outputs": [
    {
     "data": {
      "text/plain": [
       "int"
      ]
     },
     "execution_count": 21,
     "metadata": {},
     "output_type": "execute_result"
    }
   ],
   "source": [
    "type(your_num)"
   ]
  },
  {
   "cell_type": "code",
   "execution_count": 23,
   "id": "6f2d0ffd",
   "metadata": {},
   "outputs": [
    {
     "name": "stdout",
     "output_type": "stream",
     "text": [
      "Please enter your first number2\n",
      "Please enter your second number 4\n",
      "The maximum is:  4\n"
     ]
    }
   ],
   "source": [
    "n1 = int(input(\"Please enter your first number\"))\n",
    "n2 = int(input(\"Please enter your second number \"))\n",
    "if n1 > n2:\n",
    "    m = n1\n",
    "else:\n",
    "    m = n2\n",
    "print('The maximum is: ', m)"
   ]
  },
  {
   "cell_type": "code",
   "execution_count": 126,
   "id": "1bfe5723",
   "metadata": {},
   "outputs": [
    {
     "ename": "SyntaxError",
     "evalue": "invalid syntax (1300946746.py, line 1)",
     "output_type": "error",
     "traceback": [
      "\u001b[0;36m  Input \u001b[0;32mIn [126]\u001b[0;36m\u001b[0m\n\u001b[0;31m    5! = 5x4x3x2x1\u001b[0m\n\u001b[0m     ^\u001b[0m\n\u001b[0;31mSyntaxError\u001b[0m\u001b[0;31m:\u001b[0m invalid syntax\n"
     ]
    }
   ],
   "source": [
    "5! = 5x4x3x2x1"
   ]
  },
  {
   "cell_type": "code",
   "execution_count": 129,
   "id": "ff1c4185",
   "metadata": {},
   "outputs": [
    {
     "name": "stdout",
     "output_type": "stream",
     "text": [
      "Please enter a positive integer3\n",
      "The factorial of 3 is 6\n"
     ]
    }
   ],
   "source": [
    "# This code will return the factorial of a number \n",
    "n = int(input(\"Please enter a positive integer\"))\n",
    "i = 1\n",
    "p = 1\n",
    "while i <= n:\n",
    "    #p = p*i\n",
    "    p *= i\n",
    "    #i = i+1\n",
    "    i += 1\n",
    "print('The factorial of' , n, \"is\" , p)\n",
    "    \n",
    "    "
   ]
  },
  {
   "cell_type": "code",
   "execution_count": 130,
   "id": "95c01d7f",
   "metadata": {},
   "outputs": [
    {
     "ename": "SyntaxError",
     "evalue": "invalid syntax (3992809109.py, line 1)",
     "output_type": "error",
     "traceback": [
      "\u001b[0;36m  Input \u001b[0;32mIn [130]\u001b[0;36m\u001b[0m\n\u001b[0;31m    When i = 1\u001b[0m\n\u001b[0m         ^\u001b[0m\n\u001b[0;31mSyntaxError\u001b[0m\u001b[0;31m:\u001b[0m invalid syntax\n"
     ]
    }
   ],
   "source": [
    "When i = 1\n",
    "p = 1*1\n",
    "When i = 2\n",
    "p = 1*1*2\n",
    "when i = 3\n",
    "p = 1*2*3\n",
    "when i =4\n",
    "p = 1*2*3*4*\n",
    "when i = 5\n",
    "p = 1*2*3*4*5\n",
    "when i =6 -->> print('Statement ')"
   ]
  },
  {
   "cell_type": "markdown",
   "id": "4fd5b12c",
   "metadata": {},
   "source": [
    "### practice Use if, elif, else statement to find the maximum of three numbers "
   ]
  },
  {
   "cell_type": "code",
   "execution_count": 139,
   "id": "7ca3cbdd",
   "metadata": {},
   "outputs": [
    {
     "name": "stdout",
     "output_type": "stream",
     "text": [
      "Please enter your first number100\n",
      "Please enter your second number 55\n",
      "Please enter your third number34\n",
      "The maximum number is 100\n"
     ]
    }
   ],
   "source": [
    "n1 = int(input(\"Please enter your first number\"))\n",
    "n2 = int(input(\"Please enter your second number \"))\n",
    "n3 = int(input(\"Please enter your third number\"))\n",
    "if n1 > n2 and n1 > n3:\n",
    "    m = n1\n",
    "elif n2 > n1 and n2 > n3:\n",
    "    m = n2\n",
    "else:\n",
    "    m = n3\n",
    "print('The maximum number is' , m)"
   ]
  },
  {
   "cell_type": "markdown",
   "id": "8a4721b2",
   "metadata": {},
   "source": [
    "## For loops"
   ]
  },
  {
   "cell_type": "code",
   "execution_count": 143,
   "id": "cad6cbc0",
   "metadata": {},
   "outputs": [
    {
     "name": "stdout",
     "output_type": "stream",
     "text": [
      "1\n",
      "4\n",
      "9\n",
      "16\n",
      "25\n",
      "36\n",
      "49\n",
      "64\n",
      "81\n",
      "100\n"
     ]
    }
   ],
   "source": [
    "Seq = [1,2,3,4,5,6,7,8,9,10]\n",
    "for num in Seq:\n",
    "    print(num**2)"
   ]
  },
  {
   "cell_type": "code",
   "execution_count": 144,
   "id": "0886fff5",
   "metadata": {},
   "outputs": [
    {
     "name": "stdout",
     "output_type": "stream",
     "text": [
      "1\n",
      "8\n",
      "27\n",
      "64\n",
      "125\n",
      "216\n",
      "343\n",
      "512\n",
      "729\n",
      "1000\n"
     ]
    }
   ],
   "source": [
    "Seq = [1,2,3,4,5,6,7,8,9,10]\n",
    "for num in Seq:\n",
    "    print(num**3)"
   ]
  },
  {
   "cell_type": "code",
   "execution_count": 145,
   "id": "2a06d761",
   "metadata": {},
   "outputs": [
    {
     "name": "stdout",
     "output_type": "stream",
     "text": [
      "*\n",
      "**\n",
      "***\n",
      "****\n",
      "*****\n",
      "******\n",
      "*******\n",
      "********\n",
      "*********\n",
      "**********\n"
     ]
    }
   ],
   "source": [
    "for num in Seq:\n",
    "    print(\"*\"*num)"
   ]
  },
  {
   "cell_type": "code",
   "execution_count": 146,
   "id": "f3f83d70",
   "metadata": {},
   "outputs": [
    {
     "name": "stdout",
     "output_type": "stream",
     "text": [
      "                             Hi                             \n",
      "                            HiHi                            \n",
      "                           HiHiHi                           \n",
      "                          HiHiHiHi                          \n",
      "                         HiHiHiHiHi                         \n",
      "                        HiHiHiHiHiHi                        \n",
      "                       HiHiHiHiHiHiHi                       \n",
      "                      HiHiHiHiHiHiHiHi                      \n",
      "                     HiHiHiHiHiHiHiHiHi                     \n",
      "                    HiHiHiHiHiHiHiHiHiHi                    \n"
     ]
    }
   ],
   "source": [
    "for num in Seq:\n",
    "    print((\"Hi\"*num).center(60))"
   ]
  },
  {
   "cell_type": "code",
   "execution_count": 147,
   "id": "eafa99ce",
   "metadata": {},
   "outputs": [],
   "source": [
    "## HW try printing same triangle but reverse, heart symbol using codio"
   ]
  },
  {
   "cell_type": "code",
   "execution_count": 148,
   "id": "82537e50",
   "metadata": {},
   "outputs": [
    {
     "name": "stdout",
     "output_type": "stream",
     "text": [
      "30\n",
      "27\n",
      "24\n",
      "21\n",
      "18\n",
      "15\n",
      "12\n",
      "9\n",
      "6\n",
      "3\n"
     ]
    }
   ],
   "source": [
    "Seq = [10,9,8,7,6,5,4,3,2,1]\n",
    "for num in Seq:\n",
    "    print(num*3)"
   ]
  },
  {
   "cell_type": "code",
   "execution_count": 150,
   "id": "a05f16a6",
   "metadata": {},
   "outputs": [
    {
     "name": "stdout",
     "output_type": "stream",
     "text": [
      "                    HIHIHIHIHIHIHIHIHIHI                    \n",
      "                     HIHIHIHIHIHIHIHIHI                     \n",
      "                      HIHIHIHIHIHIHIHI                      \n",
      "                       HIHIHIHIHIHIHI                       \n",
      "                        HIHIHIHIHIHI                        \n",
      "                         HIHIHIHIHI                         \n",
      "                          HIHIHIHI                          \n",
      "                           HIHIHI                           \n",
      "                            HIHI                            \n",
      "                             HI                             \n"
     ]
    }
   ],
   "source": [
    "for num in Seq:\n",
    "    print((\"HI\"*num).center(60))"
   ]
  },
  {
   "cell_type": "code",
   "execution_count": 151,
   "id": "ac43a8ec",
   "metadata": {},
   "outputs": [],
   "source": [
    "name_gpa = {'Ali': 4.0, 'Kevin': 4.0, \"Bertrum\": 3.2, 'Sean': 3.5, 'Jennifer': 2.2}"
   ]
  },
  {
   "cell_type": "code",
   "execution_count": 153,
   "id": "66ba63c8",
   "metadata": {},
   "outputs": [
    {
     "name": "stdout",
     "output_type": "stream",
     "text": [
      "['Ali', 'Kevin', 'Sean']\n"
     ]
    }
   ],
   "source": [
    "emp_list = []\n",
    "for name, gpa in name_gpa.items():\n",
    "    if gpa >= 3.5:\n",
    "        emp_list.append(name)\n",
    "print(emp_list)"
   ]
  },
  {
   "cell_type": "code",
   "execution_count": null,
   "id": "b7e2dd29",
   "metadata": {},
   "outputs": [],
   "source": [
    "16 --> 16,8,4,2,1 after 8, there are no mrore factors of 16"
   ]
  },
  {
   "cell_type": "code",
   "execution_count": 161,
   "id": "37093a8b",
   "metadata": {},
   "outputs": [
    {
     "name": "stdout",
     "output_type": "stream",
     "text": [
      "Please enter a positive integer:14\n",
      "Factors of 14 are 1,2,7,14\n",
      "The number of factors is 4\n",
      "The sum of the factors is 24\n"
     ]
    }
   ],
   "source": [
    "# the factors of 12 are 12,6,4,3,2,1\n",
    "n = int(input(\"Please enter a positive integer:\"))\n",
    "print('Factors of', n, 'are', 1, end = ',')\n",
    "i = 2\n",
    "count = 2\n",
    "suma = n+1\n",
    "while i <= n//2:\n",
    "    if n % i == 0:\n",
    "        print(i, end=',')\n",
    "        count += 1\n",
    "        suma = suma +i\n",
    "    i += 1\n",
    "print(n)\n",
    "print(\"The number of factors is\", count)\n",
    "print(\"The sum of the factors is\", suma)     "
   ]
  },
  {
   "cell_type": "code",
   "execution_count": 1,
   "id": "c81dd4bf",
   "metadata": {},
   "outputs": [
    {
     "data": {
      "text/plain": [
       "'/home/_20mnorwood/REU/Summer-Project-'"
      ]
     },
     "execution_count": 1,
     "metadata": {},
     "output_type": "execute_result"
    }
   ],
   "source": [
    "pwd"
   ]
  },
  {
   "cell_type": "code",
   "execution_count": 6,
   "id": "be607187",
   "metadata": {},
   "outputs": [],
   "source": [
    "def add_num(num1,num2):\n",
    "    return num1+num2"
   ]
  },
  {
   "cell_type": "code",
   "execution_count": 7,
   "id": "62d2368e",
   "metadata": {},
   "outputs": [
    {
     "data": {
      "text/plain": [
       "8"
      ]
     },
     "execution_count": 7,
     "metadata": {},
     "output_type": "execute_result"
    }
   ],
   "source": [
    "add_num(2,6)"
   ]
  },
  {
   "cell_type": "code",
   "execution_count": 8,
   "id": "fbfed125",
   "metadata": {},
   "outputs": [],
   "source": [
    "def double_num(num):\n",
    "    return num*2"
   ]
  },
  {
   "cell_type": "code",
   "execution_count": 10,
   "id": "d5860884",
   "metadata": {},
   "outputs": [
    {
     "data": {
      "text/plain": [
       "12"
      ]
     },
     "execution_count": 10,
     "metadata": {},
     "output_type": "execute_result"
    }
   ],
   "source": [
    "double_num(6)"
   ]
  },
  {
   "cell_type": "code",
   "execution_count": 12,
   "id": "ed6aac47",
   "metadata": {},
   "outputs": [],
   "source": [
    "s = [1,2,3,4,5]"
   ]
  },
  {
   "cell_type": "code",
   "execution_count": 13,
   "id": "7f2c8695",
   "metadata": {},
   "outputs": [
    {
     "data": {
      "text/plain": [
       "[5, 4, 3, 2, 1]"
      ]
     },
     "execution_count": 13,
     "metadata": {},
     "output_type": "execute_result"
    }
   ],
   "source": [
    "s[::-1]"
   ]
  },
  {
   "cell_type": "code",
   "execution_count": 14,
   "id": "9b41f72a",
   "metadata": {},
   "outputs": [],
   "source": [
    "# val = Y O B\n",
    "# new val = \"\"\n",
    "# 1st new_val = Y+\"\"\n",
    "# 2nd new_val = O+Y\n",
    "# 3rd new_val = B+Y+O\n",
    "def reverse_st(val):\n",
    "    new_val = \"\"\n",
    "    for char in val:\n",
    "        new_val = char + new_val\n",
    "    return new_val"
   ]
  },
  {
   "cell_type": "code",
   "execution_count": 16,
   "id": "316ed02b",
   "metadata": {},
   "outputs": [
    {
     "data": {
      "text/plain": [
       "'OPRAH'"
      ]
     },
     "execution_count": 16,
     "metadata": {},
     "output_type": "execute_result"
    }
   ],
   "source": [
    "reverse_st('HARPO')"
   ]
  },
  {
   "cell_type": "code",
   "execution_count": 18,
   "id": "fabd5471",
   "metadata": {},
   "outputs": [
    {
     "data": {
      "text/plain": [
       "'Disney'"
      ]
     },
     "execution_count": 18,
     "metadata": {},
     "output_type": "execute_result"
    }
   ],
   "source": [
    "reverse_st('yensiD')"
   ]
  },
  {
   "cell_type": "code",
   "execution_count": 20,
   "id": "24466a72",
   "metadata": {},
   "outputs": [],
   "source": [
    "num_list = [-5,3,2,11,7]"
   ]
  },
  {
   "cell_type": "code",
   "execution_count": 22,
   "id": "0a9c3a26",
   "metadata": {},
   "outputs": [
    {
     "data": {
      "text/plain": [
       "<enumerate at 0x79efa510a900>"
      ]
     },
     "execution_count": 22,
     "metadata": {},
     "output_type": "execute_result"
    }
   ],
   "source": [
    "enumerate(num_list)"
   ]
  },
  {
   "cell_type": "code",
   "execution_count": 23,
   "id": "685ae1eb",
   "metadata": {},
   "outputs": [
    {
     "name": "stdout",
     "output_type": "stream",
     "text": [
      "[0, 3, 2, 11, 7]\n"
     ]
    }
   ],
   "source": [
    "for idx, num in enumerate(num_list):\n",
    "    if num < 0:\n",
    "        num_list[idx] = 0\n",
    "print(num_list)"
   ]
  },
  {
   "cell_type": "markdown",
   "id": "9bc84564",
   "metadata": {},
   "source": [
    "## Lambda Expression"
   ]
  },
  {
   "cell_type": "code",
   "execution_count": 24,
   "id": "4631ec44",
   "metadata": {},
   "outputs": [],
   "source": [
    "def double_func(num):\n",
    "    return num*2"
   ]
  },
  {
   "cell_type": "code",
   "execution_count": 25,
   "id": "a7ba9b79",
   "metadata": {},
   "outputs": [
    {
     "data": {
      "text/plain": [
       "10"
      ]
     },
     "execution_count": 25,
     "metadata": {},
     "output_type": "execute_result"
    }
   ],
   "source": [
    "double_func(5)"
   ]
  },
  {
   "cell_type": "code",
   "execution_count": 26,
   "id": "e8238b79",
   "metadata": {},
   "outputs": [],
   "source": [
    "double_val = lambda num: num*2"
   ]
  },
  {
   "cell_type": "code",
   "execution_count": 27,
   "id": "9ba7de6e",
   "metadata": {},
   "outputs": [
    {
     "data": {
      "text/plain": [
       "12"
      ]
     },
     "execution_count": 27,
     "metadata": {},
     "output_type": "execute_result"
    }
   ],
   "source": [
    "double_val(6)"
   ]
  },
  {
   "cell_type": "markdown",
   "id": "fa6ce5ea",
   "metadata": {},
   "source": [
    "## Map and Filter "
   ]
  },
  {
   "cell_type": "code",
   "execution_count": 29,
   "id": "0cf08d0c",
   "metadata": {},
   "outputs": [],
   "source": [
    "seq = [1,2,3,4,5,6]"
   ]
  },
  {
   "cell_type": "code",
   "execution_count": 31,
   "id": "7b2752f9",
   "metadata": {},
   "outputs": [
    {
     "data": {
      "text/plain": [
       "[2, 4, 6, 8, 10, 12]"
      ]
     },
     "execution_count": 31,
     "metadata": {},
     "output_type": "execute_result"
    }
   ],
   "source": [
    "list (map(double_func, seq))"
   ]
  },
  {
   "cell_type": "code",
   "execution_count": 32,
   "id": "84a72e72",
   "metadata": {},
   "outputs": [
    {
     "data": {
      "text/plain": [
       "[2, 4, 6, 8, 10, 12]"
      ]
     },
     "execution_count": 32,
     "metadata": {},
     "output_type": "execute_result"
    }
   ],
   "source": [
    "list(map(lambda num: num*2, seq))"
   ]
  },
  {
   "cell_type": "code",
   "execution_count": 33,
   "id": "2e19f6bd",
   "metadata": {},
   "outputs": [
    {
     "data": {
      "text/plain": [
       "[2, 4, 6]"
      ]
     },
     "execution_count": 33,
     "metadata": {},
     "output_type": "execute_result"
    }
   ],
   "source": [
    "list(filter(lambda num: num%2==0, seq))"
   ]
  },
  {
   "cell_type": "code",
   "execution_count": 34,
   "id": "5c95c5e7",
   "metadata": {},
   "outputs": [
    {
     "data": {
      "text/plain": [
       "6"
      ]
     },
     "execution_count": 34,
     "metadata": {},
     "output_type": "execute_result"
    }
   ],
   "source": [
    "len(seq)"
   ]
  },
  {
   "cell_type": "code",
   "execution_count": 41,
   "id": "4d70106f",
   "metadata": {},
   "outputs": [
    {
     "name": "stdout",
     "output_type": "stream",
     "text": [
      "Original\n",
      "Original\n",
      "Original\n",
      "Original\n",
      "Original\n",
      "Original\n"
     ]
    }
   ],
   "source": [
    "for num in range(len(seq)):\n",
    "    if num> 100:\n",
    "        print(\"Max\")\n",
    "    else:\n",
    "        print('Original')"
   ]
  },
  {
   "cell_type": "code",
   "execution_count": 42,
   "id": "36d29bc9",
   "metadata": {},
   "outputs": [
    {
     "name": "stdout",
     "output_type": "stream",
     "text": [
      "Even\n",
      "Odd\n",
      "Even\n",
      "Odd\n",
      "Even\n",
      "Odd\n"
     ]
    }
   ],
   "source": [
    "for num in range(len(seq)):\n",
    "    if num%2==0:\n",
    "        print(\"Even\")\n",
    "    else:\n",
    "        print('Odd')"
   ]
  },
  {
   "cell_type": "code",
   "execution_count": 43,
   "id": "d4541852",
   "metadata": {},
   "outputs": [],
   "source": [
    "def double_func(num):\n",
    "    return num*2"
   ]
  },
  {
   "cell_type": "code",
   "execution_count": 44,
   "id": "99a2135a",
   "metadata": {},
   "outputs": [
    {
     "data": {
      "text/plain": [
       "[2, 4, 6, 8, 10, 12]"
      ]
     },
     "execution_count": 44,
     "metadata": {},
     "output_type": "execute_result"
    }
   ],
   "source": [
    "[num*2 for num in seq]"
   ]
  },
  {
   "cell_type": "code",
   "execution_count": 45,
   "id": "54b13ac2",
   "metadata": {},
   "outputs": [],
   "source": [
    "results = ['Odd' if num%3==0 else \"Even\" for num in seq]"
   ]
  },
  {
   "cell_type": "code",
   "execution_count": 46,
   "id": "dafcc3fa",
   "metadata": {},
   "outputs": [
    {
     "data": {
      "text/plain": [
       "['Even', 'Even', 'Odd', 'Even', 'Even', 'Odd']"
      ]
     },
     "execution_count": 46,
     "metadata": {},
     "output_type": "execute_result"
    }
   ],
   "source": [
    "results"
   ]
  },
  {
   "cell_type": "code",
   "execution_count": null,
   "id": "38fa7156",
   "metadata": {},
   "outputs": [],
   "source": [
    "git add \n",
    "git commit -m\"lambda, map, filter'\n",
    "git push origin master "
   ]
  }
 ],
 "metadata": {
  "kernelspec": {
   "display_name": "Python 3 (ipykernel)",
   "language": "python",
   "name": "python3"
  },
  "language_info": {
   "codemirror_mode": {
    "name": "ipython",
    "version": 3
   },
   "file_extension": ".py",
   "mimetype": "text/x-python",
   "name": "python",
   "nbconvert_exporter": "python",
   "pygments_lexer": "ipython3",
   "version": "3.9.12"
  }
 },
 "nbformat": 4,
 "nbformat_minor": 5
}
